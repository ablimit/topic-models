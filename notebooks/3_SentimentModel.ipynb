{
 "metadata": {
  "name": "",
  "signature": "sha256:5921d170979504eb58d9253cd65cbaf9cdd7aa0b6e28b8689bc64da5b892310f"
 },
 "nbformat": 3,
 "nbformat_minor": 0,
 "worksheets": [
  {
   "cells": [
    {
     "cell_type": "code",
     "collapsed": false,
     "input": [
      "!curl \"http://snap.stanford.edu/data/amazon/Sports_&_Outdoors.txt.gz\" > \"SportsOutdoors.txt.gz\"\n",
      "!gunzip SportsOutdoors.txt.gz\n",
      "!head -10 SportsOutdoors.txt"
     ],
     "language": "python",
     "metadata": {},
     "outputs": [
      {
       "output_type": "stream",
       "stream": "stdout",
       "text": [
        "  % Total    % Received % Xferd  Average Speed   Time    Time     Time  Current\r\n"
       ]
      },
      {
       "output_type": "stream",
       "stream": "stdout",
       "text": [
        "                                 Dload  Upload   Total   Spent    Left  Speed\r\n",
        "\r",
        "  0     0    0     0    0     0      0      0 --:--:-- --:--:-- --:--:--     0"
       ]
      },
      {
       "output_type": "stream",
       "stream": "stdout",
       "text": [
        "\r",
        "  0  101M    0  397k    0     0   921k      0  0:01:52 --:--:--  0:01:52  921k"
       ]
      },
      {
       "output_type": "stream",
       "stream": "stdout",
       "text": [
        "\r",
        "  2  101M    2 2352k    0     0  1644k      0  0:01:03  0:00:01  0:01:02 1644k"
       ]
      },
      {
       "output_type": "stream",
       "stream": "stdout",
       "text": [
        "\r",
        "  4  101M    4 4318k    0     0  1776k      0  0:00:58  0:00:02  0:00:56 1776k"
       ]
      },
      {
       "output_type": "stream",
       "stream": "stdout",
       "text": [
        "\r",
        "  6  101M    6 6279k    0     0  1830k      0  0:00:56  0:00:03  0:00:53 1829k"
       ]
      },
      {
       "output_type": "stream",
       "stream": "stdout",
       "text": [
        "\r",
        "  7  101M    7 8245k    0     0  1860k      0  0:00:55  0:00:04  0:00:51 1860k"
       ]
      },
      {
       "output_type": "stream",
       "stream": "stdout",
       "text": [
        "\r",
        "  9  101M    9  9.9M    0     0  1879k      0  0:00:55  0:00:05  0:00:50 1962k"
       ]
      },
      {
       "output_type": "stream",
       "stream": "stdout",
       "text": [
        "\r",
        " 11  101M   11 11.8M    0     0  1893k      0  0:00:54  0:00:06  0:00:48 1964k"
       ]
      },
      {
       "output_type": "stream",
       "stream": "stdout",
       "text": [
        "\r",
        " 13  101M   13 13.8M    0     0  1903k      0  0:00:54  0:00:07  0:00:47 1964k"
       ]
      },
      {
       "output_type": "stream",
       "stream": "stdout",
       "text": [
        "\r",
        " 15  101M   15 15.7M    0     0  1910k      0  0:00:54  0:00:08  0:00:46 1965k"
       ]
      },
      {
       "output_type": "stream",
       "stream": "stdout",
       "text": [
        "\r",
        " 17  101M   17 17.6M    0     0  1916k      0  0:00:54  0:00:09  0:00:45 1966k"
       ]
      },
      {
       "output_type": "stream",
       "stream": "stdout",
       "text": [
        "\r",
        " 19  101M   19 19.5M    0     0  1921k      0  0:00:54  0:00:10  0:00:44 1965k"
       ]
      },
      {
       "output_type": "stream",
       "stream": "stdout",
       "text": [
        "\r",
        " 21  101M   21 21.4M    0     0  1925k      0  0:00:54  0:00:11  0:00:43 1965k"
       ]
      },
      {
       "output_type": "stream",
       "stream": "stdout",
       "text": [
        "\r",
        " 22  101M   22 23.3M    0     0  1924k      0  0:00:54  0:00:12  0:00:42 1956k"
       ]
      },
      {
       "output_type": "stream",
       "stream": "stdout",
       "text": [
        "\r",
        " 24  101M   24 25.2M    0     0  1927k      0  0:00:54  0:00:13  0:00:41 1956k"
       ]
      },
      {
       "output_type": "stream",
       "stream": "stdout",
       "text": [
        "\r",
        " 26  101M   26 27.2M    0     0  1930k      0  0:00:53  0:00:14  0:00:39 1957k"
       ]
      },
      {
       "output_type": "stream",
       "stream": "stdout",
       "text": [
        "\r",
        " 28  101M   28 29.1M    0     0  1933k      0  0:00:53  0:00:15  0:00:38 1957k"
       ]
      },
      {
       "output_type": "stream",
       "stream": "stdout",
       "text": [
        "\r",
        " 30  101M   30 31.0M    0     0  1934k      0  0:00:53  0:00:16  0:00:37 1957k"
       ]
      },
      {
       "output_type": "stream",
       "stream": "stdout",
       "text": [
        "\r",
        " 32  101M   32 32.9M    0     0  1936k      0  0:00:53  0:00:17  0:00:36 1966k"
       ]
      },
      {
       "output_type": "stream",
       "stream": "stdout",
       "text": [
        "\r",
        " 34  101M   34 34.8M    0     0  1938k      0  0:00:53  0:00:18  0:00:35 1966k"
       ]
      },
      {
       "output_type": "stream",
       "stream": "stdout",
       "text": [
        "\r",
        " 36  101M   36 36.8M    0     0  1939k      0  0:00:53  0:00:19  0:00:34 1966k"
       ]
      },
      {
       "output_type": "stream",
       "stream": "stdout",
       "text": [
        "\r",
        " 38  101M   38 38.7M    0     0  1941k      0  0:00:53  0:00:20  0:00:33 1965k"
       ]
      },
      {
       "output_type": "stream",
       "stream": "stdout",
       "text": [
        "\r",
        " 39  101M   39 40.6M    0     0  1942k      0  0:00:53  0:00:21  0:00:32 1965k"
       ]
      },
      {
       "output_type": "stream",
       "stream": "stdout",
       "text": [
        "\r",
        " 41  101M   41 42.5M    0     0  1942k      0  0:00:53  0:00:22  0:00:31 1962k"
       ]
      },
      {
       "output_type": "stream",
       "stream": "stdout",
       "text": [
        "\r",
        " 43  101M   43 44.4M    0     0  1943k      0  0:00:53  0:00:23  0:00:30 1963k"
       ]
      },
      {
       "output_type": "stream",
       "stream": "stdout",
       "text": [
        "\r",
        " 45  101M   45 46.3M    0     0  1944k      0  0:00:53  0:00:24  0:00:29 1962k"
       ]
      },
      {
       "output_type": "stream",
       "stream": "stdout",
       "text": [
        "\r",
        " 47  101M   47 48.3M    0     0  1944k      0  0:00:53  0:00:25  0:00:28 1960k"
       ]
      },
      {
       "output_type": "stream",
       "stream": "stdout",
       "text": [
        "\r",
        " 49  101M   49 50.2M    0     0  1945k      0  0:00:53  0:00:26  0:00:27 1961k"
       ]
      },
      {
       "output_type": "stream",
       "stream": "stdout",
       "text": [
        "\r",
        " 51  101M   51 52.1M    0     0  1946k      0  0:00:53  0:00:27  0:00:26 1963k"
       ]
      },
      {
       "output_type": "stream",
       "stream": "stdout",
       "text": [
        "\r",
        " 53  101M   53 54.0M    0     0  1947k      0  0:00:53  0:00:28  0:00:25 1963k"
       ]
      },
      {
       "output_type": "stream",
       "stream": "stdout",
       "text": [
        "\r",
        " 55  101M   55 55.9M    0     0  1947k      0  0:00:53  0:00:29  0:00:24 1962k"
       ]
      },
      {
       "output_type": "stream",
       "stream": "stdout",
       "text": [
        "\r",
        " 56  101M   56 57.8M    0     0  1948k      0  0:00:53  0:00:30  0:00:23 1965k"
       ]
      },
      {
       "output_type": "stream",
       "stream": "stdout",
       "text": [
        "\r",
        " 58  101M   58 59.8M    0     0  1948k      0  0:00:53  0:00:31  0:00:22 1964k"
       ]
      },
      {
       "output_type": "stream",
       "stream": "stdout",
       "text": [
        "\r",
        " 60  101M   60 61.7M    0     0  1948k      0  0:00:53  0:00:32  0:00:21 1959k"
       ]
      },
      {
       "output_type": "stream",
       "stream": "stdout",
       "text": [
        "\r",
        " 62  101M   62 63.6M    0     0  1948k      0  0:00:53  0:00:33  0:00:20 1959k"
       ]
      },
      {
       "output_type": "stream",
       "stream": "stdout",
       "text": [
        "\r",
        " 64  101M   64 65.5M    0     0  1949k      0  0:00:53  0:00:34  0:00:19 1959k"
       ]
      },
      {
       "output_type": "stream",
       "stream": "stdout",
       "text": [
        "\r",
        " 66  101M   66 67.4M    0     0  1949k      0  0:00:53  0:00:35  0:00:18 1957k"
       ]
      },
      {
       "output_type": "stream",
       "stream": "stdout",
       "text": [
        "\r",
        " 68  101M   68 69.3M    0     0  1949k      0  0:00:53  0:00:36  0:00:17 1958k"
       ]
      },
      {
       "output_type": "stream",
       "stream": "stdout",
       "text": [
        "\r",
        " 70  101M   70 71.2M    0     0  1950k      0  0:00:53  0:00:37  0:00:16 1962k"
       ]
      },
      {
       "output_type": "stream",
       "stream": "stdout",
       "text": [
        "\r",
        " 71  101M   71 73.2M    0     0  1950k      0  0:00:53  0:00:38  0:00:15 1962k"
       ]
      },
      {
       "output_type": "stream",
       "stream": "stdout",
       "text": [
        "\r",
        " 73  101M   73 75.1M    0     0  1951k      0  0:00:53  0:00:39  0:00:14 1963k"
       ]
      },
      {
       "output_type": "stream",
       "stream": "stdout",
       "text": [
        "\r",
        " 75  101M   75 77.0M    0     0  1951k      0  0:00:53  0:00:40  0:00:13 1965k"
       ]
      },
      {
       "output_type": "stream",
       "stream": "stdout",
       "text": [
        "\r",
        " 77  101M   77 78.9M    0     0  1951k      0  0:00:53  0:00:41  0:00:12 1965k"
       ]
      },
      {
       "output_type": "stream",
       "stream": "stdout",
       "text": [
        "\r",
        " 79  101M   79 80.8M    0     0  1952k      0  0:00:53  0:00:42  0:00:11 1964k"
       ]
      },
      {
       "output_type": "stream",
       "stream": "stdout",
       "text": [
        "\r",
        " 81  101M   81 82.8M    0     0  1952k      0  0:00:53  0:00:43  0:00:10 1965k"
       ]
      },
      {
       "output_type": "stream",
       "stream": "stdout",
       "text": [
        "\r",
        " 83  101M   83 84.7M    0     0  1952k      0  0:00:53  0:00:44  0:00:09 1964k"
       ]
      },
      {
       "output_type": "stream",
       "stream": "stdout",
       "text": [
        "\r",
        " 85  101M   85 86.6M    0     0  1952k      0  0:00:53  0:00:45  0:00:08 1964k"
       ]
      },
      {
       "output_type": "stream",
       "stream": "stdout",
       "text": [
        "\r",
        " 87  101M   87 88.5M    0     0  1953k      0  0:00:53  0:00:46  0:00:07 1965k"
       ]
      },
      {
       "output_type": "stream",
       "stream": "stdout",
       "text": [
        "\r",
        " 88  101M   88 90.4M    0     0  1953k      0  0:00:53  0:00:47  0:00:06 1964k"
       ]
      },
      {
       "output_type": "stream",
       "stream": "stdout",
       "text": [
        "\r",
        " 90  101M   90 92.4M    0     0  1953k      0  0:00:53  0:00:48  0:00:05 1966k"
       ]
      },
      {
       "output_type": "stream",
       "stream": "stdout",
       "text": [
        "\r",
        " 92  101M   92 94.3M    0     0  1954k      0  0:00:53  0:00:49  0:00:04 1965k"
       ]
      },
      {
       "output_type": "stream",
       "stream": "stdout",
       "text": [
        "\r",
        " 94  101M   94 96.2M    0     0  1954k      0  0:00:53  0:00:50  0:00:03 1966k"
       ]
      },
      {
       "output_type": "stream",
       "stream": "stdout",
       "text": [
        "\r",
        " 96  101M   96 98.1M    0     0  1954k      0  0:00:53  0:00:51  0:00:02 1965k"
       ]
      },
      {
       "output_type": "stream",
       "stream": "stdout",
       "text": [
        "\r",
        " 98  101M   98  100M    0     0  1954k      0  0:00:53  0:00:52  0:00:01 1966k"
       ]
      },
      {
       "output_type": "stream",
       "stream": "stdout",
       "text": [
        "\r",
        "100  101M  100  101M    0     0  1954k      0  0:00:53  0:00:53 --:--:-- 1965k\r\n"
       ]
      },
      {
       "output_type": "stream",
       "stream": "stdout",
       "text": [
        "product/productId: B000LCX1FS\r\n",
        "product/title: SC Sports Green Bay Packers 4 Inch Glass Football Player Ornament - Green Bay Packers One Size\r\n",
        "product/price: unknown\r\n",
        "review/userId: A3S63BBKSZZZQZ\r\n",
        "review/profileName: Lwest\r\n",
        "review/helpfulness: 0/0\r\n",
        "review/score: 5.0\r\n",
        "review/time: 1309910400\r\n",
        "review/summary: Great gift!\r\n",
        "review/text: This ornament was ordered as a gift and did not disappoint us. It did not feel overly delicate and the paint was good quality.\r\n"
       ]
      }
     ],
     "prompt_number": 1
    },
    {
     "cell_type": "code",
     "collapsed": false,
     "input": [
      "keys = ['review/profileName', 'product/price', 'review/time', 'product/productId', 'review/helpfulness', 'review/summary', 'review/userId', 'product/title', 'review/score', 'review/text']"
     ],
     "language": "python",
     "metadata": {},
     "outputs": [],
     "prompt_number": 113
    },
    {
     "cell_type": "code",
     "collapsed": false,
     "input": [
      "###################### this takes a long time (hours) to complete\n",
      "###################### so instead of running it, go to the next cell, where the collected counts are loaded from a pkl file.\n",
      "1=0 # an obvious error to prevent you from running this code unless you really want to\n",
      "import traceback\n",
      "from string import split\n",
      "import re\n",
      "from time import time\n",
      "\n",
      "from collections import Counter\n",
      "global count_all\n",
      "count_all=0\n",
      "\n",
      "def getBlocks(infile,p=1):\n",
      "    global count_all\n",
      "    block={}\n",
      "    for line in infile.readlines():\n",
      "        try:\n",
      "            if line.strip():   #if line not empty\n",
      "                key,value=split(line,':',maxsplit=1)\n",
      "                block[key.strip()]=value.strip(),\n",
      "            else:\n",
      "                count_all+=1\n",
      "                if random.uniform()<p:\n",
      "                    yield block\n",
      "                block={}\n",
      "        except:\n",
      "            print \"ERROR:\",line\n",
      "            traceback.print_exc()\n",
      "            raise Exception()\n",
      "\n",
      "def count_tokens(string):\n",
      "    \"\"\"partition a string into words, no punctuation, lowercase, return as a Counter.\"\"\"\n",
      "    words=[word.lower() for word in re.split(r'[ \\t\\n\\,\\.]+',string)]\n",
      "    return Counter(words)\n",
      "\n",
      "infile=open('SportsOutdoors.txt','r')\n",
      "\n",
      "dict={key:[] for key in keys}\n",
      "tokenized_keys=['review/summary','review/text','product/title']\n",
      "\n",
      "counters=[Counter()]*6 \n",
      "\n",
      "i=1\n",
      "t=time()\n",
      "for block in getBlocks(infile):\n",
      "    score=int(float(block['review/score'][0]))\n",
      "    counters[score]+=count_tokens(block['review/text'][0])\n",
      "    if (i % 1000)==0:\n",
      "        print i, count_all,time()-t\n",
      "        t=time()\n",
      "    \n",
      "    i+=1\n",
      "\n",
      "infile.close()\n",
      "#print counters\n"
     ],
     "language": "python",
     "metadata": {},
     "outputs": [
      {
       "ename": "SyntaxError",
       "evalue": "can't assign to literal (<ipython-input-2-8807aa3ce20d>, line 3)",
       "output_type": "pyerr",
       "traceback": [
        "\u001b[0;36m  File \u001b[0;32m\"<ipython-input-2-8807aa3ce20d>\"\u001b[0;36m, line \u001b[0;32m3\u001b[0m\n\u001b[0;31m    1=0\u001b[0m\n\u001b[0;31mSyntaxError\u001b[0m\u001b[0;31m:\u001b[0m can't assign to literal\n"
       ]
      }
     ],
     "prompt_number": 2
    },
    {
     "cell_type": "code",
     "collapsed": false,
     "input": [
      "import pickle\n",
      "counters=pickle.load(open('counters.pkl','r'))\n",
      "[\"%d:%d\"%(i,len(counters[i])) for i in range(len(counters))]\n",
      "#pickle.dump(counters,open('counters.pkl','w'))"
     ],
     "language": "python",
     "metadata": {},
     "outputs": [
      {
       "metadata": {},
       "output_type": "pyout",
       "prompt_number": 1,
       "text": [
        "['0:0', '1:30402', '2:24264', '3:31789', '4:54950', '5:94008']"
       ]
      }
     ],
     "prompt_number": 1
    },
    {
     "cell_type": "code",
     "collapsed": false,
     "input": [
      "from collections import Counter\n",
      "total=Counter()\n",
      "sums=[0]*6\n",
      "for i in range(6):\n",
      "    total=total+counters[i]\n",
      "    sums[i]=sum(counters[i].values())\n",
      "    \n",
      "total_words=sum(sums)\n",
      "total_words"
     ],
     "language": "python",
     "metadata": {},
     "outputs": [
      {
       "metadata": {},
       "output_type": "pyout",
       "prompt_number": 4,
       "text": [
        "9290892.0"
       ]
      }
     ],
     "prompt_number": 4
    },
    {
     "cell_type": "code",
     "collapsed": false,
     "input": [
      "import pandas as pd\n",
      "DF=pd.DataFrame(index=total.keys(),data={'total':total.values()})\n",
      "\n",
      "DF.sort(columns='total').tail()\n",
      "for i in range(1,6):\n",
      "    tmp=counters[i]\n",
      "    tmp2=pd.Series(index=tmp.keys(),data=tmp.values())\n",
      "    tmp2=tmp2/sums[i]\n",
      "    DF['prob'+str(i)]=tmp2\n",
      "DF['prob0']=DF['total']/total_words\n",
      "DF=DF.sort(columns='total')\n",
      "DF.tail(5)"
     ],
     "language": "python",
     "metadata": {},
     "outputs": [
      {
       "html": [
        "<div style=\"max-height:1000px;max-width:1500px;overflow:auto;\">\n",
        "<table border=\"1\" class=\"dataframe\">\n",
        "  <thead>\n",
        "    <tr style=\"text-align: right;\">\n",
        "      <th></th>\n",
        "      <th>total</th>\n",
        "      <th>prob1</th>\n",
        "      <th>prob2</th>\n",
        "      <th>prob3</th>\n",
        "      <th>prob4</th>\n",
        "      <th>prob5</th>\n",
        "      <th>prob0</th>\n",
        "    </tr>\n",
        "  </thead>\n",
        "  <tbody>\n",
        "    <tr>\n",
        "      <th>to</th>\n",
        "      <td> 230869</td>\n",
        "      <td> 0.025345</td>\n",
        "      <td> 0.025730</td>\n",
        "      <td> 0.026716</td>\n",
        "      <td> 0.025433</td>\n",
        "      <td> 0.024064</td>\n",
        "      <td> 0.024849</td>\n",
        "    </tr>\n",
        "    <tr>\n",
        "      <th>a</th>\n",
        "      <td> 247992</td>\n",
        "      <td> 0.024631</td>\n",
        "      <td> 0.025231</td>\n",
        "      <td> 0.027349</td>\n",
        "      <td> 0.028339</td>\n",
        "      <td> 0.026375</td>\n",
        "      <td> 0.026692</td>\n",
        "    </tr>\n",
        "    <tr>\n",
        "      <th>and</th>\n",
        "      <td> 264131</td>\n",
        "      <td> 0.025271</td>\n",
        "      <td> 0.024460</td>\n",
        "      <td> 0.023222</td>\n",
        "      <td> 0.026329</td>\n",
        "      <td> 0.031307</td>\n",
        "      <td> 0.028429</td>\n",
        "    </tr>\n",
        "    <tr>\n",
        "      <th>i</th>\n",
        "      <td> 286035</td>\n",
        "      <td> 0.034919</td>\n",
        "      <td> 0.030864</td>\n",
        "      <td> 0.030948</td>\n",
        "      <td> 0.029224</td>\n",
        "      <td> 0.030726</td>\n",
        "      <td> 0.030787</td>\n",
        "    </tr>\n",
        "    <tr>\n",
        "      <th>the</th>\n",
        "      <td> 468110</td>\n",
        "      <td> 0.055011</td>\n",
        "      <td> 0.057814</td>\n",
        "      <td> 0.056598</td>\n",
        "      <td> 0.053993</td>\n",
        "      <td> 0.046001</td>\n",
        "      <td> 0.050384</td>\n",
        "    </tr>\n",
        "  </tbody>\n",
        "</table>\n",
        "</div>"
       ],
       "metadata": {},
       "output_type": "pyout",
       "prompt_number": 6,
       "text": [
        "      total     prob1     prob2     prob3     prob4     prob5     prob0\n",
        "to   230869  0.025345  0.025730  0.026716  0.025433  0.024064  0.024849\n",
        "a    247992  0.024631  0.025231  0.027349  0.028339  0.026375  0.026692\n",
        "and  264131  0.025271  0.024460  0.023222  0.026329  0.031307  0.028429\n",
        "i    286035  0.034919  0.030864  0.030948  0.029224  0.030726  0.030787\n",
        "the  468110  0.055011  0.057814  0.056598  0.053993  0.046001  0.050384"
       ]
      }
     ],
     "prompt_number": 6
    },
    {
     "cell_type": "code",
     "collapsed": false,
     "input": [
      "import nltk\n",
      "stopwords=nltk.corpus.stopwords.words('english')+['']\n",
      "','.join(stopwords)"
     ],
     "language": "python",
     "metadata": {},
     "outputs": [
      {
       "metadata": {},
       "output_type": "pyout",
       "prompt_number": 7,
       "text": [
        "'i,me,my,myself,we,our,ours,ourselves,you,your,yours,yourself,yourselves,he,him,his,himself,she,her,hers,herself,it,its,itself,they,them,their,theirs,themselves,what,which,who,whom,this,that,these,those,am,is,are,was,were,be,been,being,have,has,had,having,do,does,did,doing,a,an,the,and,but,if,or,because,as,until,while,of,at,by,for,with,about,against,between,into,through,during,before,after,above,below,to,from,up,down,in,out,on,off,over,under,again,further,then,once,here,there,when,where,why,how,all,any,both,each,few,more,most,other,some,such,no,nor,not,only,own,same,so,than,too,very,s,t,can,will,just,don,should,now,'"
       ]
      }
     ],
     "prompt_number": 7
    },
    {
     "cell_type": "code",
     "collapsed": false,
     "input": [
      "keep_list=[not(word in stopwords) for word in DF.index]\n",
      "DFR=DF.ix[keep_list,:]\n",
      "DFR=DFR[DFR['total']>10]\n",
      "shape(DFR),shape(DF)"
     ],
     "language": "python",
     "metadata": {},
     "outputs": [
      {
       "metadata": {},
       "output_type": "pyout",
       "prompt_number": 8,
       "text": [
        "((17105, 7), (142781, 7))"
       ]
      }
     ],
     "prompt_number": 8
    },
    {
     "cell_type": "code",
     "collapsed": false,
     "input": [
      "DF=DFR\n",
      "for i in range(1,6):\n",
      "    log_ratio='log_ratio'+str(i)\n",
      "    log_likelihood='log_likelihood'+str(i)\n",
      "    prob='prob'+str(i)\n",
      "    DF[log_ratio]=log(DF[prob]/DF['prob0'])\n",
      "    DF[log_likelihood]=DF[prob]*DF[log_ratio]"
     ],
     "language": "python",
     "metadata": {},
     "outputs": [],
     "prompt_number": 9
    },
    {
     "cell_type": "code",
     "collapsed": false,
     "input": [
      "DF=DF.sort(columns='log_likelihood5',ascending=False)\n",
      "DF[['total','prob0','prob5','log_ratio5','log_likelihood5']].head(20)"
     ],
     "language": "python",
     "metadata": {},
     "outputs": [
      {
       "html": [
        "<div style=\"max-height:1000px;max-width:1500px;overflow:auto;\">\n",
        "<table border=\"1\" class=\"dataframe\">\n",
        "  <thead>\n",
        "    <tr style=\"text-align: right;\">\n",
        "      <th></th>\n",
        "      <th>total</th>\n",
        "      <th>prob0</th>\n",
        "      <th>prob5</th>\n",
        "      <th>log_ratio5</th>\n",
        "      <th>log_likelihood5</th>\n",
        "    </tr>\n",
        "  </thead>\n",
        "  <tbody>\n",
        "    <tr>\n",
        "      <th>great</th>\n",
        "      <td> 37808</td>\n",
        "      <td> 0.004069</td>\n",
        "      <td> 0.005407</td>\n",
        "      <td> 0.284211</td>\n",
        "      <td> 0.001537</td>\n",
        "    </tr>\n",
        "    <tr>\n",
        "      <th>love</th>\n",
        "      <td> 11467</td>\n",
        "      <td> 0.001234</td>\n",
        "      <td> 0.001822</td>\n",
        "      <td> 0.389723</td>\n",
        "      <td> 0.000710</td>\n",
        "    </tr>\n",
        "    <tr>\n",
        "      <th>perfect</th>\n",
        "      <td>  8916</td>\n",
        "      <td> 0.000960</td>\n",
        "      <td> 0.001422</td>\n",
        "      <td> 0.393541</td>\n",
        "      <td> 0.000560</td>\n",
        "    </tr>\n",
        "    <tr>\n",
        "      <th>easy</th>\n",
        "      <td> 15646</td>\n",
        "      <td> 0.001684</td>\n",
        "      <td> 0.002174</td>\n",
        "      <td> 0.255345</td>\n",
        "      <td> 0.000555</td>\n",
        "    </tr>\n",
        "    <tr>\n",
        "      <th>well</th>\n",
        "      <td> 25927</td>\n",
        "      <td> 0.002791</td>\n",
        "      <td> 0.003184</td>\n",
        "      <td> 0.131818</td>\n",
        "      <td> 0.000420</td>\n",
        "    </tr>\n",
        "    <tr>\n",
        "      <th>best</th>\n",
        "      <td>  7926</td>\n",
        "      <td> 0.000853</td>\n",
        "      <td> 0.001204</td>\n",
        "      <td> 0.344632</td>\n",
        "      <td> 0.000415</td>\n",
        "    </tr>\n",
        "    <tr>\n",
        "      <th>comfortable</th>\n",
        "      <td> 10020</td>\n",
        "      <td> 0.001078</td>\n",
        "      <td> 0.001435</td>\n",
        "      <td> 0.285725</td>\n",
        "      <td> 0.000410</td>\n",
        "    </tr>\n",
        "    <tr>\n",
        "      <th>highly</th>\n",
        "      <td>  4475</td>\n",
        "      <td> 0.000482</td>\n",
        "      <td> 0.000777</td>\n",
        "      <td> 0.477926</td>\n",
        "      <td> 0.000371</td>\n",
        "    </tr>\n",
        "    <tr>\n",
        "      <th>recommend</th>\n",
        "      <td> 10956</td>\n",
        "      <td> 0.001179</td>\n",
        "      <td> 0.001502</td>\n",
        "      <td> 0.242192</td>\n",
        "      <td> 0.000364</td>\n",
        "    </tr>\n",
        "    <tr>\n",
        "      <th>years</th>\n",
        "      <td>  9296</td>\n",
        "      <td> 0.001001</td>\n",
        "      <td> 0.001273</td>\n",
        "      <td> 0.240808</td>\n",
        "      <td> 0.000307</td>\n",
        "    </tr>\n",
        "    <tr>\n",
        "      <th>loves</th>\n",
        "      <td>  4209</td>\n",
        "      <td> 0.000453</td>\n",
        "      <td> 0.000687</td>\n",
        "      <td> 0.416317</td>\n",
        "      <td> 0.000286</td>\n",
        "    </tr>\n",
        "    <tr>\n",
        "      <th>excellent</th>\n",
        "      <td>  4754</td>\n",
        "      <td> 0.000512</td>\n",
        "      <td> 0.000743</td>\n",
        "      <td> 0.373078</td>\n",
        "      <td> 0.000277</td>\n",
        "    </tr>\n",
        "    <tr>\n",
        "      <th>i've</th>\n",
        "      <td> 11677</td>\n",
        "      <td> 0.001257</td>\n",
        "      <td> 0.001510</td>\n",
        "      <td> 0.183507</td>\n",
        "      <td> 0.000277</td>\n",
        "    </tr>\n",
        "    <tr>\n",
        "      <th>pants</th>\n",
        "      <td>  6492</td>\n",
        "      <td> 0.000699</td>\n",
        "      <td> 0.000935</td>\n",
        "      <td> 0.291090</td>\n",
        "      <td> 0.000272</td>\n",
        "    </tr>\n",
        "    <tr>\n",
        "      <th>quality</th>\n",
        "      <td> 15550</td>\n",
        "      <td> 0.001674</td>\n",
        "      <td> 0.001914</td>\n",
        "      <td> 0.134108</td>\n",
        "      <td> 0.000257</td>\n",
        "    </tr>\n",
        "    <tr>\n",
        "      <th>wear</th>\n",
        "      <td> 10155</td>\n",
        "      <td> 0.001093</td>\n",
        "      <td> 0.001319</td>\n",
        "      <td> 0.187801</td>\n",
        "      <td> 0.000248</td>\n",
        "    </tr>\n",
        "    <tr>\n",
        "      <th>knife</th>\n",
        "      <td>  7220</td>\n",
        "      <td> 0.000777</td>\n",
        "      <td> 0.000984</td>\n",
        "      <td> 0.235604</td>\n",
        "      <td> 0.000232</td>\n",
        "    </tr>\n",
        "    <tr>\n",
        "      <th>every</th>\n",
        "      <td>  6266</td>\n",
        "      <td> 0.000674</td>\n",
        "      <td> 0.000844</td>\n",
        "      <td> 0.224284</td>\n",
        "      <td> 0.000189</td>\n",
        "    </tr>\n",
        "    <tr>\n",
        "      <th>fast</th>\n",
        "      <td>  4055</td>\n",
        "      <td> 0.000436</td>\n",
        "      <td> 0.000596</td>\n",
        "      <td> 0.312077</td>\n",
        "      <td> 0.000186</td>\n",
        "    </tr>\n",
        "    <tr>\n",
        "      <th>pleased</th>\n",
        "      <td>  3418</td>\n",
        "      <td> 0.000368</td>\n",
        "      <td> 0.000520</td>\n",
        "      <td> 0.346531</td>\n",
        "      <td> 0.000180</td>\n",
        "    </tr>\n",
        "  </tbody>\n",
        "</table>\n",
        "</div>"
       ],
       "metadata": {},
       "output_type": "pyout",
       "prompt_number": 10,
       "text": [
        "             total     prob0     prob5  log_ratio5  log_likelihood5\n",
        "great        37808  0.004069  0.005407    0.284211         0.001537\n",
        "love         11467  0.001234  0.001822    0.389723         0.000710\n",
        "perfect       8916  0.000960  0.001422    0.393541         0.000560\n",
        "easy         15646  0.001684  0.002174    0.255345         0.000555\n",
        "well         25927  0.002791  0.003184    0.131818         0.000420\n",
        "best          7926  0.000853  0.001204    0.344632         0.000415\n",
        "comfortable  10020  0.001078  0.001435    0.285725         0.000410\n",
        "highly        4475  0.000482  0.000777    0.477926         0.000371\n",
        "recommend    10956  0.001179  0.001502    0.242192         0.000364\n",
        "years         9296  0.001001  0.001273    0.240808         0.000307\n",
        "loves         4209  0.000453  0.000687    0.416317         0.000286\n",
        "excellent     4754  0.000512  0.000743    0.373078         0.000277\n",
        "i've         11677  0.001257  0.001510    0.183507         0.000277\n",
        "pants         6492  0.000699  0.000935    0.291090         0.000272\n",
        "quality      15550  0.001674  0.001914    0.134108         0.000257\n",
        "wear         10155  0.001093  0.001319    0.187801         0.000248\n",
        "knife         7220  0.000777  0.000984    0.235604         0.000232\n",
        "every         6266  0.000674  0.000844    0.224284         0.000189\n",
        "fast          4055  0.000436  0.000596    0.312077         0.000186\n",
        "pleased       3418  0.000368  0.000520    0.346531         0.000180"
       ]
      }
     ],
     "prompt_number": 10
    },
    {
     "cell_type": "code",
     "collapsed": false,
     "input": [
      "for i in range(5,0,-1):\n",
      "    log_likelihood='log_likelihood'+str(i)\n",
      "    DF=DF.sort(columns=log_likelihood,ascending=False)\n",
      "    plot(DF[log_likelihood][:100],label=log_likelihood)\n",
      "    print 'top words for score',i\n",
      "    print ','.join(DF.index[:40])\n",
      "legend()\n",
      "grid()"
     ],
     "language": "python",
     "metadata": {},
     "outputs": [
      {
       "output_type": "stream",
       "stream": "stdout",
       "text": [
        "top words for score 5\n",
        "great,love,perfect,easy,well,best,comfortable,highly,recommend,years,loves,excellent,i've,pants,quality,wear,knife,every,fast,pleased,fits,it!,looking,husband,exactly,water,price,perfectly,ever,warm,day,old,happy,durable,bought,many,anyone,sturdy,year,pocket\n",
        "top words for score 4\n",
        "good,little,bit,stars,overall,though,it's,like,pretty,bike,would,well,4,otherwise,seems,pant,reason,however,quite,complaint,star,price,nice,think,give,5,use,probably,fine,four,couple,easily,quality;,may,lander,34&#34;,size,issue,phone,slightly\n",
        "top words for score 3\n",
        "however,would,like,ok,seems,vest,fine,ribb,short,small,ladies,better,bigger,pretty,fixed,maybe,way,think,description,nice,tall,thought,plastic,okay,cotton,though,decent,thin,bit,going,size,arms,see,i'm,wish,$40,something,don't,yes,silver\n",
        "top words for score 2\n",
        "disappointed,back,broke,maybe,however,return,plastic,would,thin,poor,lg,bagginess,apart,design,unfortunately,cheap,better,problem,game,item,ok,bottom,get,two,returned,first,unless,returning,light,way,extreme,idea,small,guess,send,wouldn't,useless,professionals,zipper,pay\n",
        "top words for score 1\n",
        "return,amazon,received,company,product,money,waste,returned,never,ordered,would,broke,item,back,contacted,sent,china,send,buy,shipping,even,cheap,refund,junk,email,breeches,disappointed,first,poor,customer,seller,order,called,inseam,useless,description,10\",said,one,tried\n"
       ]
      },
      {
       "metadata": {},
       "output_type": "display_data",
       "png": "[encoded data removed]",
       "text": [
        "<matplotlib.figure.Figure at 0x10d0e5350>"
       ]
      }
     ],
     "prompt_number": 12
    },
    {
     "cell_type": "code",
     "collapsed": false,
     "input": [],
     "language": "python",
     "metadata": {},
     "outputs": [],
     "prompt_number": 13
    },
    {
     "cell_type": "code",
     "collapsed": false,
     "input": [],
     "language": "python",
     "metadata": {},
     "outputs": []
    }
   ],
   "metadata": {}
  }
 ]
}