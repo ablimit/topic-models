{
 "metadata": {
  "name": "",
  "signature": "sha256:da138855f73c85ca4aa21fe83b2076231f4a6a0c1bdbf8f7aefffff14d4c843b"
 },
 "nbformat": 3,
 "nbformat_minor": 0,
 "worksheets": [
  {
   "cells": [
    {
     "cell_type": "markdown",
     "metadata": {},
     "source": [
      "### Online and Streaming modeling ###\n",
      "The goal of this notebook is to develop code that would allow incremental construction of topic models. The idea is that the code consists of two parts:\n",
      "\n",
      "* **Stream Processing**: filtering messages of a particular type and counting the word occurances in a stream. \n",
      "* **Batch processing**: analyzing the word counts for different streams, displaying the results to the user, and updating/adding/removing filters.\n"
     ]
    },
    {
     "cell_type": "code",
     "collapsed": false,
     "input": [
      "from collections import Counter\n",
      "import traceback\n",
      "from string import split\n",
      "import re\n",
      "from time import time\n",
      "\n",
      "import nltk\n",
      "stopwords=nltk.corpus.stopwords.words('english')+['']\n",
      "','.join(stopwords)\n",
      "\n",
      "def count_tokens(string):\n",
      "    \"\"\"partition a string into words, no punctuation, lowercase, return as a Counter.\"\"\"\n",
      "    words=[]\n",
      "    for word in re.split(r'[ \\t\\n\\;\\\"\\'\\`\\,\\.]+',string):\n",
      "        word=word.lower()\n",
      "        if not word in stopwords:\n",
      "            words.append(word)\n",
      "    return Counter(words)\n"
     ],
     "language": "python",
     "metadata": {},
     "outputs": [],
     "prompt_number": 4
    },
    {
     "cell_type": "code",
     "collapsed": false,
     "input": [
      "class Filter():\n",
      "    \"\"\" An abstract class from which all specific filters are derived \"\"\"\n",
      "    def __init__(self):\n",
      "        self.counter=None\n",
      "        pass\n",
      "    def rule(self,data):\n",
      "        \"\"\" Return true/False on a single piece of data \"\"\"\n",
      "        return True\n",
      "    def accumIfRule(self,data):\n",
      "        \"\"\" accumulate statistics if rule passes \"\"\"\n",
      "        pass\n",
      "    def filter(self,dataStream):\n",
      "        \"\"\" Create a stream that is a subset of a given stream\n",
      "        not sure how to make this so that each\"\"\"\n",
      "        for item in dataStream():\n",
      "            if self.rule(item):\n",
      "                yield item\n",
      "                \n",
      "class scoreFilter(Filter):\n",
      "    def __init__(self,score):\n",
      "        self.score=score\n",
      "        self.counter=Counter()\n",
      "        self.doc_counter=0\n",
      "        self.token_counter=0\n",
      "    def rule(self,block):\n",
      "        inscore=int(float(block['review/score'][0]))\n",
      "        return inscore==self.score\n",
      "    def accumIfRule(self,block):\n",
      "        if self.rule(block):\n",
      "            self.doc_counter+=1\n",
      "            tokens=count_tokens(block['review/text'][0])\n",
      "            self.counter += tokens\n",
      "            self.token_counter+= sum(tokens.values())\n",
      "            #print \"accum\",self.score, self.token_counter\n",
      "            \n",
      "        "
     ],
     "language": "python",
     "metadata": {},
     "outputs": [],
     "prompt_number": 5
    },
    {
     "cell_type": "code",
     "collapsed": false,
     "input": [
      "keys = ['review/profileName', 'product/price', 'review/time', 'product/productId', 'review/helpfulness', 'review/summary', 'review/userId', 'product/title', 'review/score', 'review/text']"
     ],
     "language": "python",
     "metadata": {},
     "outputs": [],
     "prompt_number": 6
    },
    {
     "cell_type": "code",
     "collapsed": false,
     "input": [
      "\n",
      "global count_all\n",
      "count_all=0\n",
      "\n",
      "def getBlocks(infile,p=1):\n",
      "    global count_all\n",
      "    block={}\n",
      "    for line in infile.readlines():\n",
      "        try:\n",
      "            if line.strip():   #if line not empty\n",
      "                key,value=split(line,':',maxsplit=1)\n",
      "                block[key.strip()]=value.strip(),\n",
      "            else:\n",
      "                count_all+=1\n",
      "                if random.uniform()<p:\n",
      "                    yield block\n",
      "                block={}\n",
      "        except:\n",
      "            print \"ERROR:\",line\n",
      "            traceback.print_exc()\n",
      "            raise Exception()"
     ],
     "language": "python",
     "metadata": {},
     "outputs": [],
     "prompt_number": 7
    },
    {
     "cell_type": "code",
     "collapsed": false,
     "input": [
      "###################### this takes a long time (hours) to complete\n",
      "###################### so instead of running it, go to the next cell, where the collected counts are loaded from a pkl file.\n",
      "1=0 # an obvious error to prevent you from running this code unless you really want to\n",
      "\n",
      "infile=open('/Users/yoavfreund/DSE200/DSE200/data/amazonProductReviews/SportsOutdoors.txt','r')\n",
      "tokenized_keys=['review/summary','review/text','product/title']\n",
      "\n",
      "filters=[scoreFilter(i) for i in range(1,6)]\n",
      "\n",
      "i=1\n",
      "t=time()\n",
      "for block in getBlocks(infile):\n",
      "    for filter in filters:\n",
      "        filter.accumIfRule(block)\n",
      "\n",
      "    if (i % 500)==0:\n",
      "        print i, count_all,time()-t\n",
      "        t=time()\n",
      "    if i>3000:\n",
      "        break\n",
      "    \n",
      "    i+=1\n",
      "\n",
      "infile.close()\n",
      "#print counters"
     ],
     "language": "python",
     "metadata": {},
     "outputs": [
      {
       "ename": "SyntaxError",
       "evalue": "can't assign to literal (<ipython-input-8-7e3d86ec36e1>, line 3)",
       "output_type": "pyerr",
       "traceback": [
        "\u001b[0;36m  File \u001b[0;32m\"<ipython-input-8-7e3d86ec36e1>\"\u001b[0;36m, line \u001b[0;32m3\u001b[0m\n\u001b[0;31m    1=0 # an obvious error to prevent you from running this code unless you really want to\u001b[0m\n\u001b[0;31mSyntaxError\u001b[0m\u001b[0;31m:\u001b[0m can't assign to literal\n"
       ]
      }
     ],
     "prompt_number": 8
    },
    {
     "cell_type": "code",
     "collapsed": false,
     "input": [
      "import pickle\n",
      "counters=pickle.load(open('counters.pkl','r'))\n",
      "[\"%d:%d\"%(i,len(counters[i])) for i in range(len(counters))]\n",
      "#pickle.dump(counters,open('counters.pkl','w'))"
     ],
     "language": "python",
     "metadata": {},
     "outputs": [
      {
       "metadata": {},
       "output_type": "pyout",
       "prompt_number": 10,
       "text": [
        "['0:0', '1:30402', '2:24264', '3:31789', '4:54950', '5:94008']"
       ]
      }
     ],
     "prompt_number": 10
    },
    {
     "cell_type": "code",
     "collapsed": false,
     "input": [
      "def sumCounters(List):\n",
      "    \"\"\" get a list of counts as input and return the counter corresponding to the sum \"\"\"\n",
      "    Sum=Counter()\n",
      "    for C in List:\n",
      "        Sum=Sum+C\n",
      "    return Sum"
     ],
     "language": "python",
     "metadata": {},
     "outputs": [],
     "prompt_number": 11
    },
    {
     "cell_type": "code",
     "collapsed": false,
     "input": [
      "import pandas as pd\n",
      "\n",
      "total=Counter()\n",
      "sums=[0]*6\n",
      "for i in range(6):\n",
      "    total=total+counters[i]\n",
      "    sums[i]=sum(counters[i].values())\n",
      "    \n",
      "total_words=sum(sums)\n",
      "print 'total words=',total_words\n",
      "DF=pd.DataFrame(index=total.keys(),data={'total':total.values()})\n",
      "\n",
      "for i in range(1,6):\n",
      "    tmp=counters[i]\n",
      "    tmp2=pd.Series(index=tmp.keys(),data=tmp.values())\n",
      "    DF['total'+str(i)]=tmp2\n",
      "DF=DF.sort(columns='total')\n",
      "DF.tail(5)\n"
     ],
     "language": "python",
     "metadata": {},
     "outputs": [
      {
       "output_type": "stream",
       "stream": "stdout",
       "text": [
        "total words= 9290892.0\n"
       ]
      },
      {
       "html": [
        "<div style=\"max-height:1000px;max-width:1500px;overflow:auto;\">\n",
        "<table border=\"1\" class=\"dataframe\">\n",
        "  <thead>\n",
        "    <tr style=\"text-align: right;\">\n",
        "      <th></th>\n",
        "      <th>total</th>\n",
        "      <th>total1</th>\n",
        "      <th>total2</th>\n",
        "      <th>total3</th>\n",
        "      <th>total4</th>\n",
        "      <th>total5</th>\n",
        "    </tr>\n",
        "  </thead>\n",
        "  <tbody>\n",
        "    <tr>\n",
        "      <th>to</th>\n",
        "      <td> 230869</td>\n",
        "      <td> 21106</td>\n",
        "      <td> 14721</td>\n",
        "      <td> 23728</td>\n",
        "      <td>  54245</td>\n",
        "      <td> 117069</td>\n",
        "    </tr>\n",
        "    <tr>\n",
        "      <th>a</th>\n",
        "      <td> 247992</td>\n",
        "      <td> 20511</td>\n",
        "      <td> 14435</td>\n",
        "      <td> 24290</td>\n",
        "      <td>  60444</td>\n",
        "      <td> 128312</td>\n",
        "    </tr>\n",
        "    <tr>\n",
        "      <th>and</th>\n",
        "      <td> 264131</td>\n",
        "      <td> 21044</td>\n",
        "      <td> 13994</td>\n",
        "      <td> 20625</td>\n",
        "      <td>  56158</td>\n",
        "      <td> 152310</td>\n",
        "    </tr>\n",
        "    <tr>\n",
        "      <th>i</th>\n",
        "      <td> 286035</td>\n",
        "      <td> 29078</td>\n",
        "      <td> 17658</td>\n",
        "      <td> 27487</td>\n",
        "      <td>  62332</td>\n",
        "      <td> 149480</td>\n",
        "    </tr>\n",
        "    <tr>\n",
        "      <th>the</th>\n",
        "      <td> 468110</td>\n",
        "      <td> 45810</td>\n",
        "      <td> 33077</td>\n",
        "      <td> 50268</td>\n",
        "      <td> 115162</td>\n",
        "      <td> 223793</td>\n",
        "    </tr>\n",
        "  </tbody>\n",
        "</table>\n",
        "</div>"
       ],
       "metadata": {},
       "output_type": "pyout",
       "prompt_number": 12,
       "text": [
        "      total  total1  total2  total3  total4  total5\n",
        "to   230869   21106   14721   23728   54245  117069\n",
        "a    247992   20511   14435   24290   60444  128312\n",
        "and  264131   21044   13994   20625   56158  152310\n",
        "i    286035   29078   17658   27487   62332  149480\n",
        "the  468110   45810   33077   50268  115162  223793"
       ]
      }
     ],
     "prompt_number": 12
    },
    {
     "cell_type": "code",
     "collapsed": false,
     "input": [
      "import nltk\n",
      "stopwords=nltk.corpus.stopwords.words('english')+['']\n",
      "','.join(stopwords)"
     ],
     "language": "python",
     "metadata": {},
     "outputs": [
      {
       "metadata": {},
       "output_type": "pyout",
       "prompt_number": 13,
       "text": [
        "'i,me,my,myself,we,our,ours,ourselves,you,your,yours,yourself,yourselves,he,him,his,himself,she,her,hers,herself,it,its,itself,they,them,their,theirs,themselves,what,which,who,whom,this,that,these,those,am,is,are,was,were,be,been,being,have,has,had,having,do,does,did,doing,a,an,the,and,but,if,or,because,as,until,while,of,at,by,for,with,about,against,between,into,through,during,before,after,above,below,to,from,up,down,in,out,on,off,over,under,again,further,then,once,here,there,when,where,why,how,all,any,both,each,few,more,most,other,some,such,no,nor,not,only,own,same,so,than,too,very,s,t,can,will,just,don,should,now,'"
       ]
      }
     ],
     "prompt_number": 13
    },
    {
     "cell_type": "code",
     "collapsed": false,
     "input": [
      "# Remove stopwords and words appearing fewer than 10 times\n",
      "keep_list=[not(word in stopwords) for word in DF.index]\n",
      "DFR=DF.ix[keep_list,:]\n",
      "DFR=DFR[DFR['total']>10]\n",
      "shape(DFR),shape(DF)"
     ],
     "language": "python",
     "metadata": {},
     "outputs": [
      {
       "metadata": {},
       "output_type": "pyout",
       "prompt_number": 14,
       "text": [
        "((17105, 6), (142781, 6))"
       ]
      }
     ],
     "prompt_number": 14
    },
    {
     "cell_type": "code",
     "collapsed": false,
     "input": [
      "DF=DFR.sort(columns='total')\n",
      "DF.tail(10)"
     ],
     "language": "python",
     "metadata": {},
     "outputs": [
      {
       "html": [
        "<div style=\"max-height:1000px;max-width:1500px;overflow:auto;\">\n",
        "<table border=\"1\" class=\"dataframe\">\n",
        "  <thead>\n",
        "    <tr style=\"text-align: right;\">\n",
        "      <th></th>\n",
        "      <th>total</th>\n",
        "      <th>total1</th>\n",
        "      <th>total2</th>\n",
        "      <th>total3</th>\n",
        "      <th>total4</th>\n",
        "      <th>total5</th>\n",
        "    </tr>\n",
        "  </thead>\n",
        "  <tbody>\n",
        "    <tr>\n",
        "      <th>product</th>\n",
        "      <td> 19929</td>\n",
        "      <td> 2814</td>\n",
        "      <td> 1277</td>\n",
        "      <td> 1627</td>\n",
        "      <td> 3782</td>\n",
        "      <td> 10429</td>\n",
        "    </tr>\n",
        "    <tr>\n",
        "      <th>get</th>\n",
        "      <td> 24946</td>\n",
        "      <td> 2515</td>\n",
        "      <td> 1730</td>\n",
        "      <td> 2471</td>\n",
        "      <td> 5879</td>\n",
        "      <td> 12351</td>\n",
        "    </tr>\n",
        "    <tr>\n",
        "      <th>well</th>\n",
        "      <td> 25927</td>\n",
        "      <td>  921</td>\n",
        "      <td>  973</td>\n",
        "      <td> 1984</td>\n",
        "      <td> 6560</td>\n",
        "      <td> 15489</td>\n",
        "    </tr>\n",
        "    <tr>\n",
        "      <th>use</th>\n",
        "      <td> 26091</td>\n",
        "      <td> 1791</td>\n",
        "      <td> 1498</td>\n",
        "      <td> 2407</td>\n",
        "      <td> 6326</td>\n",
        "      <td> 14069</td>\n",
        "    </tr>\n",
        "    <tr>\n",
        "      <th>it's</th>\n",
        "      <td> 26292</td>\n",
        "      <td> 1579</td>\n",
        "      <td> 1325</td>\n",
        "      <td> 2671</td>\n",
        "      <td> 6902</td>\n",
        "      <td> 13815</td>\n",
        "    </tr>\n",
        "    <tr>\n",
        "      <th>like</th>\n",
        "      <td> 31076</td>\n",
        "      <td> 2190</td>\n",
        "      <td> 1929</td>\n",
        "      <td> 3618</td>\n",
        "      <td> 7986</td>\n",
        "      <td> 15353</td>\n",
        "    </tr>\n",
        "    <tr>\n",
        "      <th>would</th>\n",
        "      <td> 31393</td>\n",
        "      <td> 3747</td>\n",
        "      <td> 2210</td>\n",
        "      <td> 3916</td>\n",
        "      <td> 7897</td>\n",
        "      <td> 13623</td>\n",
        "    </tr>\n",
        "    <tr>\n",
        "      <th>good</th>\n",
        "      <td> 31475</td>\n",
        "      <td> 1519</td>\n",
        "      <td> 1470</td>\n",
        "      <td> 3102</td>\n",
        "      <td> 8987</td>\n",
        "      <td> 16397</td>\n",
        "    </tr>\n",
        "    <tr>\n",
        "      <th>great</th>\n",
        "      <td> 37808</td>\n",
        "      <td>  878</td>\n",
        "      <td>  895</td>\n",
        "      <td> 1740</td>\n",
        "      <td> 7990</td>\n",
        "      <td> 26305</td>\n",
        "    </tr>\n",
        "    <tr>\n",
        "      <th>one</th>\n",
        "      <td> 39467</td>\n",
        "      <td> 3980</td>\n",
        "      <td> 2453</td>\n",
        "      <td> 3600</td>\n",
        "      <td> 8624</td>\n",
        "      <td> 20810</td>\n",
        "    </tr>\n",
        "  </tbody>\n",
        "</table>\n",
        "</div>"
       ],
       "metadata": {},
       "output_type": "pyout",
       "prompt_number": 15,
       "text": [
        "         total  total1  total2  total3  total4  total5\n",
        "product  19929    2814    1277    1627    3782   10429\n",
        "get      24946    2515    1730    2471    5879   12351\n",
        "well     25927     921     973    1984    6560   15489\n",
        "use      26091    1791    1498    2407    6326   14069\n",
        "it's     26292    1579    1325    2671    6902   13815\n",
        "like     31076    2190    1929    3618    7986   15353\n",
        "would    31393    3747    2210    3916    7897   13623\n",
        "good     31475    1519    1470    3102    8987   16397\n",
        "great    37808     878     895    1740    7990   26305\n",
        "one      39467    3980    2453    3600    8624   20810"
       ]
      }
     ],
     "prompt_number": 15
    },
    {
     "cell_type": "code",
     "collapsed": false,
     "input": [],
     "language": "python",
     "metadata": {},
     "outputs": [],
     "prompt_number": 15
    },
    {
     "cell_type": "code",
     "collapsed": false,
     "input": [
      "DF=DF.sort(columns='total',ascending=False)\n",
      "semilogy(DF['total'].values)"
     ],
     "language": "python",
     "metadata": {},
     "outputs": [
      {
       "metadata": {},
       "output_type": "pyout",
       "prompt_number": 16,
       "text": [
        "[<matplotlib.lines.Line2D at 0x109cf9290>]"
       ]
      },
      {
       "metadata": {},
       "output_type": "display_data",
       "png": "[encoded data removed]",
       "text": [
        "<matplotlib.figure.Figure at 0x109d08f90>"
       ]
      }
     ],
     "prompt_number": 16
    },
    {
     "cell_type": "code",
     "collapsed": false,
     "input": [
      "def KL_DF(DF,col1,col2):\n",
      "    \"\"\" Compute the KL divergence Dkl(col1,col2), where col1,col2 are the names of two columns in the dataframe df,\n",
      "    return the distance and the count for C1 \"\"\"\n",
      "    #C1=DF[col1].dropna()\n",
      "    #C2=DF[col2].dropna()\n",
      "    C1=DF[col1]\n",
      "    C2=DF[col2]\n",
      "    select=(C1>0)*(C2>0)\n",
      "    C1=C1[select]\n",
      "    C2=C2[select]\n",
      "    Z1=float(sum(C1))\n",
      "    Z2=float(sum(C2))\n",
      "    P1=C1/Z1\n",
      "    P2=C2/Z2\n",
      "    #print sum(P1),sum(P2)\n",
      "    #print len(P1),len(P2)\n",
      "    log_ratio=log(P1/P2)\n",
      "    log_like=P1*log_ratio\n",
      "    log_like.sort(ascending=False)\n",
      "    return log_like,sum(log_like),log_ratio"
     ],
     "language": "python",
     "metadata": {},
     "outputs": [],
     "prompt_number": 17
    },
    {
     "cell_type": "code",
     "collapsed": false,
     "input": [],
     "language": "python",
     "metadata": {},
     "outputs": []
    },
    {
     "cell_type": "code",
     "collapsed": false,
     "input": [
      "KL_DF(DF,'total5','total')"
     ],
     "language": "python",
     "metadata": {},
     "outputs": [
      {
       "output_type": "stream",
       "stream": "stderr",
       "text": [
        "/anaconda/lib/python2.7/site-packages/pandas/computation/expressions.py:184: UserWarning: evaluating in Python space because the '*' operator is not supported by numexpr for the bool dtype, use '&' instead\n",
        "  unsupported[op_str]))\n"
       ]
      },
      {
       "metadata": {},
       "output_type": "pyout",
       "prompt_number": 18,
       "text": [
        "(great          0.003051\n",
        " love           0.001423\n",
        " perfect        0.001122\n",
        " easy           0.001098\n",
        " best           0.000829\n",
        " comfortable    0.000814\n",
        " well           0.000800\n",
        " highly         0.000747\n",
        " recommend      0.000718\n",
        " years          0.000605\n",
        " loves          0.000574\n",
        " excellent      0.000555\n",
        " pants          0.000541\n",
        " i've           0.000540\n",
        " quality        0.000490\n",
        " ...\n",
        " received   -0.000256\n",
        " way        -0.000258\n",
        " problem    -0.000263\n",
        " pretty     -0.000268\n",
        " seems      -0.000277\n",
        " could      -0.000278\n",
        " though     -0.000282\n",
        " small      -0.000302\n",
        " plastic    -0.000302\n",
        " get        -0.000342\n",
        " don't      -0.000345\n",
        " back       -0.000347\n",
        " like       -0.000439\n",
        " however    -0.000465\n",
        " would      -0.001136\n",
        " Length: 16839, dtype: float64, 0.024543161338118635, one       -0.002645\n",
        " great      0.274625\n",
        " good      -0.014709\n",
        " would     -0.197439\n",
        " like      -0.067738\n",
        " it's      -0.006123\n",
        " use        0.019770\n",
        " well       0.122232\n",
        " get       -0.065590\n",
        " product   -0.010199\n",
        " time       0.000212\n",
        " bought     0.053775\n",
        " bike      -0.049684\n",
        " really     0.049452\n",
        " little    -0.049283\n",
        " ...\n",
        " floods         0.031251\n",
        " wasps          0.185401\n",
        " (apparently   -0.151071\n",
        " hunch          0.031251\n",
        " repels         0.185401\n",
        " overgrip       0.185401\n",
        " 200lb          0.031251\n",
        " sais          -0.661897\n",
        " abrade         0.436716\n",
        " loudest        0.031251\n",
        " tale           0.031251\n",
        " all-metal      0.031251\n",
        " recibi         0.185401\n",
        " few)           0.185401\n",
        " 41\"            0.637386\n",
        " Length: 16839, dtype: float64)"
       ]
      }
     ],
     "prompt_number": 18
    },
    {
     "cell_type": "code",
     "collapsed": false,
     "input": [
      "def JS_DF(DF,col1,col2):\n",
      "    \"\"\" Compute the Jensen-Shannon distance between two columns \"\"\"\n",
      "    DF1=DF[[col1,col2]]\n",
      "    combined=col1+'+'+col2\n",
      "    DF1[combined]=DF1[col1]+DF1[col2]\n",
      "    Z1=float(sum(DF1[col1]))\n",
      "    Z2=float(sum(DF1[col2]))\n",
      "    Z3=Z1+Z2\n",
      "    KL1=KL_DF(DF1,col1,combined)\n",
      "    KL2=KL_DF(DF1,col2,combined)\n",
      "    #print KL1[1],KL2[1]\n",
      "    weighted_KL=(Z1/Z3)*KL1[1]+(Z2/Z3)*KL2[1]\n",
      "    return weighted_KL,KL1[0],KL2[0]"
     ],
     "language": "python",
     "metadata": {},
     "outputs": [],
     "prompt_number": 19
    },
    {
     "cell_type": "code",
     "collapsed": false,
     "input": [
      "for i in range(5,0,-1):\n",
      "    d=KL_DF(DF,'total'+str(i),'total')\n",
      "    DF['log_ratio'+str(i)]=d[2]\n",
      "    DF['log_likelihood'+str(i)]=d[0]\n",
      "    print 'i=%1d, KL_divergence=%f'%(i,d[1])\n",
      "    print 'evidence for',i,': ',','.join(d[0].index[:40])"
     ],
     "language": "python",
     "metadata": {},
     "outputs": [
      {
       "output_type": "stream",
       "stream": "stdout",
       "text": [
        "i=5, KL_divergence=0.024543\n",
        "evidence for 5 :  great,love,perfect,easy,best,comfortable,well,highly,recommend,years,loves,excellent,pants,i've,quality,wear,knife,every,fast,pleased,fits,it!,looking,husband,exactly,perfectly,water,ever,warm,happy,durable,day,price,old,anyone,many,sturdy,year,pocket,awesome\n",
        "i=4, KL_divergence=0.037671\n",
        "evidence for 4 :  good,little,bit,stars,overall,though,it's,like,pretty,bike,would,well,4,otherwise,seems,pant,reason,however,quite,complaint,star,price,nice,think,give,5,use,probably,fine,four,couple,easily,quality;,lander,34&#34;,may,phone,issue,slightly,sometimes\n",
        "i=3, KL_divergence=0.084444"
       ]
      },
      {
       "output_type": "stream",
       "stream": "stdout",
       "text": [
        "\n",
        "evidence for 3 :  however,would,like,ok,seems,vest,fine,ribb,short,ladies,small,better,bigger,fixed,pretty,maybe,way,description,think,tall,nice,thought,plastic,okay,cotton,though,decent,thin,bit,going,arms,size,see,wish,$40,i'm,something,yes,silver,don't\n",
        "i=2, KL_divergence=0.118790\n",
        "evidence for 2 :  disappointed,back,broke,maybe,return,however,plastic,thin,poor,lg,would,bagginess,apart,design,unfortunately,cheap,game,better,problem,item,ok,bottom,returned,unless,two,get,first,returning,extreme,idea,light,way,guess,small,send,wouldn't,professionals,useless,zipper,pay\n",
        "i=1, KL_divergence=0.209998"
       ]
      },
      {
       "output_type": "stream",
       "stream": "stdout",
       "text": [
        "\n",
        "evidence for 1 :  return,amazon,received,company,product,money,waste,returned,never,ordered,would,broke,item,back,contacted,sent,china,send,buy,shipping,even,refund,cheap,email,junk,breeches,disappointed,poor,first,customer,seller,order,called,inseam,useless,description,10\",said,tried,pay\n"
       ]
      }
     ],
     "prompt_number": 39
    },
    {
     "cell_type": "code",
     "collapsed": false,
     "input": [
      "DF.head()"
     ],
     "language": "python",
     "metadata": {},
     "outputs": [
      {
       "html": [
        "<div style=\"max-height:1000px;max-width:1500px;overflow:auto;\">\n",
        "<table border=\"1\" class=\"dataframe\">\n",
        "  <thead>\n",
        "    <tr style=\"text-align: right;\">\n",
        "      <th></th>\n",
        "      <th>total</th>\n",
        "      <th>total1</th>\n",
        "      <th>total2</th>\n",
        "      <th>total3</th>\n",
        "      <th>total4</th>\n",
        "      <th>total5</th>\n",
        "      <th>log_ratio5</th>\n",
        "      <th>log_likelihood5</th>\n",
        "      <th>log_ratio4</th>\n",
        "      <th>log_likelihood4</th>\n",
        "      <th>log_ratio3</th>\n",
        "      <th>log_likelihood3</th>\n",
        "      <th>log_ratio2</th>\n",
        "      <th>log_likelihood2</th>\n",
        "      <th>log_ratio1</th>\n",
        "      <th>log_likelihood1</th>\n",
        "    </tr>\n",
        "  </thead>\n",
        "  <tbody>\n",
        "    <tr>\n",
        "      <th>one</th>\n",
        "      <td> 39467</td>\n",
        "      <td> 3980</td>\n",
        "      <td> 2453</td>\n",
        "      <td> 3600</td>\n",
        "      <td> 8624</td>\n",
        "      <td> 20810</td>\n",
        "      <td>-0.002645</td>\n",
        "      <td>-0.000023</td>\n",
        "      <td>-0.051707</td>\n",
        "      <td>-0.000435</td>\n",
        "      <td>-0.052774</td>\n",
        "      <td>-0.000448</td>\n",
        "      <td>-0.002337</td>\n",
        "      <td>-0.000021</td>\n",
        "      <td> 0.108771</td>\n",
        "      <td> 0.001091</td>\n",
        "    </tr>\n",
        "    <tr>\n",
        "      <th>great</th>\n",
        "      <td> 37808</td>\n",
        "      <td>  878</td>\n",
        "      <td>  895</td>\n",
        "      <td> 1740</td>\n",
        "      <td> 7990</td>\n",
        "      <td> 26305</td>\n",
        "      <td> 0.274625</td>\n",
        "      <td> 0.003051</td>\n",
        "      <td>-0.085121</td>\n",
        "      <td>-0.000663</td>\n",
        "      <td>-0.736879</td>\n",
        "      <td>-0.003027</td>\n",
        "      <td>-0.967636</td>\n",
        "      <td>-0.003187</td>\n",
        "      <td>-1.359676</td>\n",
        "      <td>-0.003008</td>\n",
        "    </tr>\n",
        "    <tr>\n",
        "      <th>good</th>\n",
        "      <td> 31475</td>\n",
        "      <td> 1519</td>\n",
        "      <td> 1470</td>\n",
        "      <td> 3102</td>\n",
        "      <td> 8987</td>\n",
        "      <td> 16397</td>\n",
        "      <td>-0.014709</td>\n",
        "      <td>-0.000102</td>\n",
        "      <td> 0.215795</td>\n",
        "      <td> 0.001890</td>\n",
        "      <td> 0.024610</td>\n",
        "      <td> 0.000180</td>\n",
        "      <td>-0.288115</td>\n",
        "      <td>-0.001559</td>\n",
        "      <td>-0.628187</td>\n",
        "      <td>-0.002405</td>\n",
        "    </tr>\n",
        "    <tr>\n",
        "      <th>would</th>\n",
        "      <td> 31393</td>\n",
        "      <td> 3747</td>\n",
        "      <td> 2210</td>\n",
        "      <td> 3916</td>\n",
        "      <td> 7897</td>\n",
        "      <td> 13623</td>\n",
        "      <td>-0.197439</td>\n",
        "      <td>-0.001136</td>\n",
        "      <td> 0.089107</td>\n",
        "      <td> 0.000686</td>\n",
        "      <td> 0.260243</td>\n",
        "      <td> 0.002406</td>\n",
        "      <td> 0.122224</td>\n",
        "      <td> 0.000994</td>\n",
        "      <td> 0.277324</td>\n",
        "      <td> 0.002619</td>\n",
        "    </tr>\n",
        "    <tr>\n",
        "      <th>like</th>\n",
        "      <td> 31076</td>\n",
        "      <td> 2190</td>\n",
        "      <td> 1929</td>\n",
        "      <td> 3618</td>\n",
        "      <td> 7986</td>\n",
        "      <td> 15353</td>\n",
        "      <td>-0.067738</td>\n",
        "      <td>-0.000439</td>\n",
        "      <td> 0.110463</td>\n",
        "      <td> 0.000860</td>\n",
        "      <td> 0.191243</td>\n",
        "      <td> 0.001633</td>\n",
        "      <td>-0.003618</td>\n",
        "      <td>-0.000026</td>\n",
        "      <td>-0.249580</td>\n",
        "      <td>-0.001377</td>\n",
        "    </tr>\n",
        "  </tbody>\n",
        "</table>\n",
        "</div>"
       ],
       "metadata": {},
       "output_type": "pyout",
       "prompt_number": 40,
       "text": [
        "       total  total1  total2  total3  total4  total5  log_ratio5  \\\n",
        "one    39467    3980    2453    3600    8624   20810   -0.002645   \n",
        "great  37808     878     895    1740    7990   26305    0.274625   \n",
        "good   31475    1519    1470    3102    8987   16397   -0.014709   \n",
        "would  31393    3747    2210    3916    7897   13623   -0.197439   \n",
        "like   31076    2190    1929    3618    7986   15353   -0.067738   \n",
        "\n",
        "       log_likelihood5  log_ratio4  log_likelihood4  log_ratio3  \\\n",
        "one          -0.000023   -0.051707        -0.000435   -0.052774   \n",
        "great         0.003051   -0.085121        -0.000663   -0.736879   \n",
        "good         -0.000102    0.215795         0.001890    0.024610   \n",
        "would        -0.001136    0.089107         0.000686    0.260243   \n",
        "like         -0.000439    0.110463         0.000860    0.191243   \n",
        "\n",
        "       log_likelihood3  log_ratio2  log_likelihood2  log_ratio1  \\\n",
        "one          -0.000448   -0.002337        -0.000021    0.108771   \n",
        "great        -0.003027   -0.967636        -0.003187   -1.359676   \n",
        "good          0.000180   -0.288115        -0.001559   -0.628187   \n",
        "would         0.002406    0.122224         0.000994    0.277324   \n",
        "like          0.001633   -0.003618        -0.000026   -0.249580   \n",
        "\n",
        "       log_likelihood1  \n",
        "one           0.001091  \n",
        "great        -0.003008  \n",
        "good         -0.002405  \n",
        "would         0.002619  \n",
        "like         -0.001377  "
       ]
      }
     ],
     "prompt_number": 40
    },
    {
     "cell_type": "code",
     "collapsed": false,
     "input": [
      "DF=DF.fillna(0)\n",
      "DF.sort(columns='log_ratio1',ascending=False)"
     ],
     "language": "python",
     "metadata": {},
     "outputs": [
      {
       "html": [
        "<div style=\"max-height:1000px;max-width:1500px;overflow:auto;\">\n",
        "<table border=\"1\" class=\"dataframe\">\n",
        "  <thead>\n",
        "    <tr style=\"text-align: right;\">\n",
        "      <th></th>\n",
        "      <th>total</th>\n",
        "      <th>total1</th>\n",
        "      <th>total2</th>\n",
        "      <th>total3</th>\n",
        "      <th>total4</th>\n",
        "      <th>total5</th>\n",
        "      <th>log_ratio5</th>\n",
        "      <th>log_likelihood5</th>\n",
        "      <th>log_ratio4</th>\n",
        "      <th>log_likelihood4</th>\n",
        "      <th>log_ratio3</th>\n",
        "      <th>log_likelihood3</th>\n",
        "      <th>log_ratio2</th>\n",
        "      <th>log_likelihood2</th>\n",
        "      <th>log_ratio1</th>\n",
        "      <th>log_likelihood1</th>\n",
        "    </tr>\n",
        "  </thead>\n",
        "  <tbody>\n",
        "    <tr>\n",
        "      <th>forfeited</th>\n",
        "      <td>  75</td>\n",
        "      <td> 75</td>\n",
        "      <td>  0</td>\n",
        "      <td>  0</td>\n",
        "      <td>   0</td>\n",
        "      <td>   0</td>\n",
        "      <td> 0.000000</td>\n",
        "      <td> 0.000000</td>\n",
        "      <td> 0.000000</td>\n",
        "      <td> 0.000000</td>\n",
        "      <td> 0.000000</td>\n",
        "      <td> 0.000000</td>\n",
        "      <td> 0.000000</td>\n",
        "      <td> 0.000000</td>\n",
        "      <td> 2.402954</td>\n",
        "      <td> 0.000454</td>\n",
        "    </tr>\n",
        "    <tr>\n",
        "      <th>unixex</th>\n",
        "      <td>  17</td>\n",
        "      <td> 17</td>\n",
        "      <td>  0</td>\n",
        "      <td>  0</td>\n",
        "      <td>   0</td>\n",
        "      <td>   0</td>\n",
        "      <td> 0.000000</td>\n",
        "      <td> 0.000000</td>\n",
        "      <td> 0.000000</td>\n",
        "      <td> 0.000000</td>\n",
        "      <td> 0.000000</td>\n",
        "      <td> 0.000000</td>\n",
        "      <td> 0.000000</td>\n",
        "      <td> 0.000000</td>\n",
        "      <td> 2.402954</td>\n",
        "      <td> 0.000103</td>\n",
        "    </tr>\n",
        "    <tr>\n",
        "      <th>\"bears\"</th>\n",
        "      <td>  21</td>\n",
        "      <td> 21</td>\n",
        "      <td>  0</td>\n",
        "      <td>  0</td>\n",
        "      <td>   0</td>\n",
        "      <td>   0</td>\n",
        "      <td> 0.000000</td>\n",
        "      <td> 0.000000</td>\n",
        "      <td> 0.000000</td>\n",
        "      <td> 0.000000</td>\n",
        "      <td> 0.000000</td>\n",
        "      <td> 0.000000</td>\n",
        "      <td> 0.000000</td>\n",
        "      <td> 0.000000</td>\n",
        "      <td> 2.402954</td>\n",
        "      <td> 0.000127</td>\n",
        "    </tr>\n",
        "    <tr>\n",
        "      <th>fit!\"</th>\n",
        "      <td>  15</td>\n",
        "      <td> 15</td>\n",
        "      <td>  0</td>\n",
        "      <td>  0</td>\n",
        "      <td>   0</td>\n",
        "      <td>   0</td>\n",
        "      <td> 0.000000</td>\n",
        "      <td> 0.000000</td>\n",
        "      <td> 0.000000</td>\n",
        "      <td> 0.000000</td>\n",
        "      <td> 0.000000</td>\n",
        "      <td> 0.000000</td>\n",
        "      <td> 0.000000</td>\n",
        "      <td> 0.000000</td>\n",
        "      <td> 2.402954</td>\n",
        "      <td> 0.000091</td>\n",
        "    </tr>\n",
        "    <tr>\n",
        "      <th>vest!!!!!</th>\n",
        "      <td>  21</td>\n",
        "      <td> 21</td>\n",
        "      <td>  0</td>\n",
        "      <td>  0</td>\n",
        "      <td>   0</td>\n",
        "      <td>   0</td>\n",
        "      <td> 0.000000</td>\n",
        "      <td> 0.000000</td>\n",
        "      <td> 0.000000</td>\n",
        "      <td> 0.000000</td>\n",
        "      <td> 0.000000</td>\n",
        "      <td> 0.000000</td>\n",
        "      <td> 0.000000</td>\n",
        "      <td> 0.000000</td>\n",
        "      <td> 2.402954</td>\n",
        "      <td> 0.000127</td>\n",
        "    </tr>\n",
        "    <tr>\n",
        "      <th>consaulted</th>\n",
        "      <td>  21</td>\n",
        "      <td> 21</td>\n",
        "      <td>  0</td>\n",
        "      <td>  0</td>\n",
        "      <td>   0</td>\n",
        "      <td>   0</td>\n",
        "      <td> 0.000000</td>\n",
        "      <td> 0.000000</td>\n",
        "      <td> 0.000000</td>\n",
        "      <td> 0.000000</td>\n",
        "      <td> 0.000000</td>\n",
        "      <td> 0.000000</td>\n",
        "      <td> 0.000000</td>\n",
        "      <td> 0.000000</td>\n",
        "      <td> 2.402954</td>\n",
        "      <td> 0.000127</td>\n",
        "    </tr>\n",
        "    <tr>\n",
        "      <th>tank-top</th>\n",
        "      <td>  15</td>\n",
        "      <td> 15</td>\n",
        "      <td>  0</td>\n",
        "      <td>  0</td>\n",
        "      <td>   0</td>\n",
        "      <td>   0</td>\n",
        "      <td> 0.000000</td>\n",
        "      <td> 0.000000</td>\n",
        "      <td> 0.000000</td>\n",
        "      <td> 0.000000</td>\n",
        "      <td> 0.000000</td>\n",
        "      <td> 0.000000</td>\n",
        "      <td> 0.000000</td>\n",
        "      <td> 0.000000</td>\n",
        "      <td> 2.402954</td>\n",
        "      <td> 0.000091</td>\n",
        "    </tr>\n",
        "    <tr>\n",
        "      <th>imitations!!!!!</th>\n",
        "      <td>  21</td>\n",
        "      <td> 21</td>\n",
        "      <td>  0</td>\n",
        "      <td>  0</td>\n",
        "      <td>   0</td>\n",
        "      <td>   0</td>\n",
        "      <td> 0.000000</td>\n",
        "      <td> 0.000000</td>\n",
        "      <td> 0.000000</td>\n",
        "      <td> 0.000000</td>\n",
        "      <td> 0.000000</td>\n",
        "      <td> 0.000000</td>\n",
        "      <td> 0.000000</td>\n",
        "      <td> 0.000000</td>\n",
        "      <td> 2.402954</td>\n",
        "      <td> 0.000127</td>\n",
        "    </tr>\n",
        "    <tr>\n",
        "      <th>zac</th>\n",
        "      <td>  97</td>\n",
        "      <td> 97</td>\n",
        "      <td>  0</td>\n",
        "      <td>  0</td>\n",
        "      <td>   0</td>\n",
        "      <td>   0</td>\n",
        "      <td> 0.000000</td>\n",
        "      <td> 0.000000</td>\n",
        "      <td> 0.000000</td>\n",
        "      <td> 0.000000</td>\n",
        "      <td> 0.000000</td>\n",
        "      <td> 0.000000</td>\n",
        "      <td> 0.000000</td>\n",
        "      <td> 0.000000</td>\n",
        "      <td> 2.402954</td>\n",
        "      <td> 0.000587</td>\n",
        "    </tr>\n",
        "    <tr>\n",
        "      <th>nordstrum</th>\n",
        "      <td>  30</td>\n",
        "      <td> 30</td>\n",
        "      <td>  0</td>\n",
        "      <td>  0</td>\n",
        "      <td>   0</td>\n",
        "      <td>   0</td>\n",
        "      <td> 0.000000</td>\n",
        "      <td> 0.000000</td>\n",
        "      <td> 0.000000</td>\n",
        "      <td> 0.000000</td>\n",
        "      <td> 0.000000</td>\n",
        "      <td> 0.000000</td>\n",
        "      <td> 0.000000</td>\n",
        "      <td> 0.000000</td>\n",
        "      <td> 2.402954</td>\n",
        "      <td> 0.000182</td>\n",
        "    </tr>\n",
        "    <tr>\n",
        "      <th>90s!</th>\n",
        "      <td>  47</td>\n",
        "      <td> 47</td>\n",
        "      <td>  0</td>\n",
        "      <td>  0</td>\n",
        "      <td>   0</td>\n",
        "      <td>   0</td>\n",
        "      <td> 0.000000</td>\n",
        "      <td> 0.000000</td>\n",
        "      <td> 0.000000</td>\n",
        "      <td> 0.000000</td>\n",
        "      <td> 0.000000</td>\n",
        "      <td> 0.000000</td>\n",
        "      <td> 0.000000</td>\n",
        "      <td> 0.000000</td>\n",
        "      <td> 2.402954</td>\n",
        "      <td> 0.000285</td>\n",
        "    </tr>\n",
        "    <tr>\n",
        "      <th>boo!</th>\n",
        "      <td>  22</td>\n",
        "      <td> 22</td>\n",
        "      <td>  0</td>\n",
        "      <td>  0</td>\n",
        "      <td>   0</td>\n",
        "      <td>   0</td>\n",
        "      <td> 0.000000</td>\n",
        "      <td> 0.000000</td>\n",
        "      <td> 0.000000</td>\n",
        "      <td> 0.000000</td>\n",
        "      <td> 0.000000</td>\n",
        "      <td> 0.000000</td>\n",
        "      <td> 0.000000</td>\n",
        "      <td> 0.000000</td>\n",
        "      <td> 2.402954</td>\n",
        "      <td> 0.000133</td>\n",
        "    </tr>\n",
        "    <tr>\n",
        "      <th>\"lures</th>\n",
        "      <td>  15</td>\n",
        "      <td> 15</td>\n",
        "      <td>  0</td>\n",
        "      <td>  0</td>\n",
        "      <td>   0</td>\n",
        "      <td>   0</td>\n",
        "      <td> 0.000000</td>\n",
        "      <td> 0.000000</td>\n",
        "      <td> 0.000000</td>\n",
        "      <td> 0.000000</td>\n",
        "      <td> 0.000000</td>\n",
        "      <td> 0.000000</td>\n",
        "      <td> 0.000000</td>\n",
        "      <td> 0.000000</td>\n",
        "      <td> 2.402954</td>\n",
        "      <td> 0.000091</td>\n",
        "    </tr>\n",
        "    <tr>\n",
        "      <th>ribbing?</th>\n",
        "      <td>  47</td>\n",
        "      <td> 47</td>\n",
        "      <td>  0</td>\n",
        "      <td>  0</td>\n",
        "      <td>   0</td>\n",
        "      <td>   0</td>\n",
        "      <td> 0.000000</td>\n",
        "      <td> 0.000000</td>\n",
        "      <td> 0.000000</td>\n",
        "      <td> 0.000000</td>\n",
        "      <td> 0.000000</td>\n",
        "      <td> 0.000000</td>\n",
        "      <td> 0.000000</td>\n",
        "      <td> 0.000000</td>\n",
        "      <td> 2.402954</td>\n",
        "      <td> 0.000285</td>\n",
        "    </tr>\n",
        "    <tr>\n",
        "      <th>\"sweater\"</th>\n",
        "      <td>  17</td>\n",
        "      <td> 17</td>\n",
        "      <td>  0</td>\n",
        "      <td>  0</td>\n",
        "      <td>   0</td>\n",
        "      <td>   0</td>\n",
        "      <td> 0.000000</td>\n",
        "      <td> 0.000000</td>\n",
        "      <td> 0.000000</td>\n",
        "      <td> 0.000000</td>\n",
        "      <td> 0.000000</td>\n",
        "      <td> 0.000000</td>\n",
        "      <td> 0.000000</td>\n",
        "      <td> 0.000000</td>\n",
        "      <td> 2.402954</td>\n",
        "      <td> 0.000103</td>\n",
        "    </tr>\n",
        "    <tr>\n",
        "      <th>breeches!)</th>\n",
        "      <td>  43</td>\n",
        "      <td> 43</td>\n",
        "      <td>  0</td>\n",
        "      <td>  0</td>\n",
        "      <td>   0</td>\n",
        "      <td>   0</td>\n",
        "      <td> 0.000000</td>\n",
        "      <td> 0.000000</td>\n",
        "      <td> 0.000000</td>\n",
        "      <td> 0.000000</td>\n",
        "      <td> 0.000000</td>\n",
        "      <td> 0.000000</td>\n",
        "      <td> 0.000000</td>\n",
        "      <td> 0.000000</td>\n",
        "      <td> 2.402954</td>\n",
        "      <td> 0.000260</td>\n",
        "    </tr>\n",
        "    <tr>\n",
        "      <th>1/12</th>\n",
        "      <td>  15</td>\n",
        "      <td> 15</td>\n",
        "      <td>  0</td>\n",
        "      <td>  0</td>\n",
        "      <td>   0</td>\n",
        "      <td>   0</td>\n",
        "      <td> 0.000000</td>\n",
        "      <td> 0.000000</td>\n",
        "      <td> 0.000000</td>\n",
        "      <td> 0.000000</td>\n",
        "      <td> 0.000000</td>\n",
        "      <td> 0.000000</td>\n",
        "      <td> 0.000000</td>\n",
        "      <td> 0.000000</td>\n",
        "      <td> 2.402954</td>\n",
        "      <td> 0.000091</td>\n",
        "    </tr>\n",
        "    <tr>\n",
        "      <th>page!</th>\n",
        "      <td>  29</td>\n",
        "      <td> 29</td>\n",
        "      <td>  0</td>\n",
        "      <td>  0</td>\n",
        "      <td>   0</td>\n",
        "      <td>   0</td>\n",
        "      <td> 0.000000</td>\n",
        "      <td> 0.000000</td>\n",
        "      <td> 0.000000</td>\n",
        "      <td> 0.000000</td>\n",
        "      <td> 0.000000</td>\n",
        "      <td> 0.000000</td>\n",
        "      <td> 0.000000</td>\n",
        "      <td> 0.000000</td>\n",
        "      <td> 2.402954</td>\n",
        "      <td> 0.000176</td>\n",
        "    </tr>\n",
        "    <tr>\n",
        "      <th>(1-800-569-9038)</th>\n",
        "      <td>  29</td>\n",
        "      <td> 29</td>\n",
        "      <td>  0</td>\n",
        "      <td>  0</td>\n",
        "      <td>   0</td>\n",
        "      <td>   0</td>\n",
        "      <td> 0.000000</td>\n",
        "      <td> 0.000000</td>\n",
        "      <td> 0.000000</td>\n",
        "      <td> 0.000000</td>\n",
        "      <td> 0.000000</td>\n",
        "      <td> 0.000000</td>\n",
        "      <td> 0.000000</td>\n",
        "      <td> 0.000000</td>\n",
        "      <td> 2.402954</td>\n",
        "      <td> 0.000176</td>\n",
        "    </tr>\n",
        "    <tr>\n",
        "      <th>still--</th>\n",
        "      <td>  29</td>\n",
        "      <td> 29</td>\n",
        "      <td>  0</td>\n",
        "      <td>  0</td>\n",
        "      <td>   0</td>\n",
        "      <td>   0</td>\n",
        "      <td> 0.000000</td>\n",
        "      <td> 0.000000</td>\n",
        "      <td> 0.000000</td>\n",
        "      <td> 0.000000</td>\n",
        "      <td> 0.000000</td>\n",
        "      <td> 0.000000</td>\n",
        "      <td> 0.000000</td>\n",
        "      <td> 0.000000</td>\n",
        "      <td> 2.402954</td>\n",
        "      <td> 0.000176</td>\n",
        "    </tr>\n",
        "    <tr>\n",
        "      <th>----looking</th>\n",
        "      <td>  23</td>\n",
        "      <td> 23</td>\n",
        "      <td>  0</td>\n",
        "      <td>  0</td>\n",
        "      <td>   0</td>\n",
        "      <td>   0</td>\n",
        "      <td> 0.000000</td>\n",
        "      <td> 0.000000</td>\n",
        "      <td> 0.000000</td>\n",
        "      <td> 0.000000</td>\n",
        "      <td> 0.000000</td>\n",
        "      <td> 0.000000</td>\n",
        "      <td> 0.000000</td>\n",
        "      <td> 0.000000</td>\n",
        "      <td> 2.402954</td>\n",
        "      <td> 0.000139</td>\n",
        "    </tr>\n",
        "    <tr>\n",
        "      <th>store/co</th>\n",
        "      <td>  17</td>\n",
        "      <td> 17</td>\n",
        "      <td>  0</td>\n",
        "      <td>  0</td>\n",
        "      <td>   0</td>\n",
        "      <td>   0</td>\n",
        "      <td> 0.000000</td>\n",
        "      <td> 0.000000</td>\n",
        "      <td> 0.000000</td>\n",
        "      <td> 0.000000</td>\n",
        "      <td> 0.000000</td>\n",
        "      <td> 0.000000</td>\n",
        "      <td> 0.000000</td>\n",
        "      <td> 0.000000</td>\n",
        "      <td> 2.402954</td>\n",
        "      <td> 0.000103</td>\n",
        "    </tr>\n",
        "    <tr>\n",
        "      <th>wasit</th>\n",
        "      <td>  19</td>\n",
        "      <td> 19</td>\n",
        "      <td>  0</td>\n",
        "      <td>  0</td>\n",
        "      <td>   0</td>\n",
        "      <td>   0</td>\n",
        "      <td> 0.000000</td>\n",
        "      <td> 0.000000</td>\n",
        "      <td> 0.000000</td>\n",
        "      <td> 0.000000</td>\n",
        "      <td> 0.000000</td>\n",
        "      <td> 0.000000</td>\n",
        "      <td> 0.000000</td>\n",
        "      <td> 0.000000</td>\n",
        "      <td> 2.402954</td>\n",
        "      <td> 0.000115</td>\n",
        "    </tr>\n",
        "    <tr>\n",
        "      <th>amazon/this</th>\n",
        "      <td>  23</td>\n",
        "      <td> 23</td>\n",
        "      <td>  0</td>\n",
        "      <td>  0</td>\n",
        "      <td>   0</td>\n",
        "      <td>   0</td>\n",
        "      <td> 0.000000</td>\n",
        "      <td> 0.000000</td>\n",
        "      <td> 0.000000</td>\n",
        "      <td> 0.000000</td>\n",
        "      <td> 0.000000</td>\n",
        "      <td> 0.000000</td>\n",
        "      <td> 0.000000</td>\n",
        "      <td> 0.000000</td>\n",
        "      <td> 2.402954</td>\n",
        "      <td> 0.000139</td>\n",
        "    </tr>\n",
        "    <tr>\n",
        "      <th>\"breezy</th>\n",
        "      <td>  17</td>\n",
        "      <td> 17</td>\n",
        "      <td>  0</td>\n",
        "      <td>  0</td>\n",
        "      <td>   0</td>\n",
        "      <td>   0</td>\n",
        "      <td> 0.000000</td>\n",
        "      <td> 0.000000</td>\n",
        "      <td> 0.000000</td>\n",
        "      <td> 0.000000</td>\n",
        "      <td> 0.000000</td>\n",
        "      <td> 0.000000</td>\n",
        "      <td> 0.000000</td>\n",
        "      <td> 0.000000</td>\n",
        "      <td> 2.402954</td>\n",
        "      <td> 0.000103</td>\n",
        "    </tr>\n",
        "    <tr>\n",
        "      <th>nothing!!!!!!!</th>\n",
        "      <td>  23</td>\n",
        "      <td> 23</td>\n",
        "      <td>  0</td>\n",
        "      <td>  0</td>\n",
        "      <td>   0</td>\n",
        "      <td>   0</td>\n",
        "      <td> 0.000000</td>\n",
        "      <td> 0.000000</td>\n",
        "      <td> 0.000000</td>\n",
        "      <td> 0.000000</td>\n",
        "      <td> 0.000000</td>\n",
        "      <td> 0.000000</td>\n",
        "      <td> 0.000000</td>\n",
        "      <td> 0.000000</td>\n",
        "      <td> 2.402954</td>\n",
        "      <td> 0.000139</td>\n",
        "    </tr>\n",
        "    <tr>\n",
        "      <th>\"husky\"</th>\n",
        "      <td>  17</td>\n",
        "      <td> 17</td>\n",
        "      <td>  0</td>\n",
        "      <td>  0</td>\n",
        "      <td>   0</td>\n",
        "      <td>   0</td>\n",
        "      <td> 0.000000</td>\n",
        "      <td> 0.000000</td>\n",
        "      <td> 0.000000</td>\n",
        "      <td> 0.000000</td>\n",
        "      <td> 0.000000</td>\n",
        "      <td> 0.000000</td>\n",
        "      <td> 0.000000</td>\n",
        "      <td> 0.000000</td>\n",
        "      <td> 2.402954</td>\n",
        "      <td> 0.000103</td>\n",
        "    </tr>\n",
        "    <tr>\n",
        "      <th>\"men's\"??</th>\n",
        "      <td>  23</td>\n",
        "      <td> 23</td>\n",
        "      <td>  0</td>\n",
        "      <td>  0</td>\n",
        "      <td>   0</td>\n",
        "      <td>   0</td>\n",
        "      <td> 0.000000</td>\n",
        "      <td> 0.000000</td>\n",
        "      <td> 0.000000</td>\n",
        "      <td> 0.000000</td>\n",
        "      <td> 0.000000</td>\n",
        "      <td> 0.000000</td>\n",
        "      <td> 0.000000</td>\n",
        "      <td> 0.000000</td>\n",
        "      <td> 2.402954</td>\n",
        "      <td> 0.000139</td>\n",
        "    </tr>\n",
        "    <tr>\n",
        "      <th>xxl!</th>\n",
        "      <td>  17</td>\n",
        "      <td> 17</td>\n",
        "      <td>  0</td>\n",
        "      <td>  0</td>\n",
        "      <td>   0</td>\n",
        "      <td>   0</td>\n",
        "      <td> 0.000000</td>\n",
        "      <td> 0.000000</td>\n",
        "      <td> 0.000000</td>\n",
        "      <td> 0.000000</td>\n",
        "      <td> 0.000000</td>\n",
        "      <td> 0.000000</td>\n",
        "      <td> 0.000000</td>\n",
        "      <td> 0.000000</td>\n",
        "      <td> 2.402954</td>\n",
        "      <td> 0.000103</td>\n",
        "    </tr>\n",
        "    <tr>\n",
        "      <th>ribbing-removed</th>\n",
        "      <td>  23</td>\n",
        "      <td> 23</td>\n",
        "      <td>  0</td>\n",
        "      <td>  0</td>\n",
        "      <td>   0</td>\n",
        "      <td>   0</td>\n",
        "      <td> 0.000000</td>\n",
        "      <td> 0.000000</td>\n",
        "      <td> 0.000000</td>\n",
        "      <td> 0.000000</td>\n",
        "      <td> 0.000000</td>\n",
        "      <td> 0.000000</td>\n",
        "      <td> 0.000000</td>\n",
        "      <td> 0.000000</td>\n",
        "      <td> 2.402954</td>\n",
        "      <td> 0.000139</td>\n",
        "    </tr>\n",
        "    <tr>\n",
        "      <th>...</th>\n",
        "      <td>...</td>\n",
        "      <td>...</td>\n",
        "      <td>...</td>\n",
        "      <td>...</td>\n",
        "      <td>...</td>\n",
        "      <td>...</td>\n",
        "      <td>...</td>\n",
        "      <td>...</td>\n",
        "      <td>...</td>\n",
        "      <td>...</td>\n",
        "      <td>...</td>\n",
        "      <td>...</td>\n",
        "      <td>...</td>\n",
        "      <td>...</td>\n",
        "      <td>...</td>\n",
        "      <td>...</td>\n",
        "    </tr>\n",
        "    <tr>\n",
        "      <th>comfortable!</th>\n",
        "      <td> 148</td>\n",
        "      <td>  1</td>\n",
        "      <td>  1</td>\n",
        "      <td>  0</td>\n",
        "      <td>  15</td>\n",
        "      <td> 131</td>\n",
        "      <td> 0.515371</td>\n",
        "      <td> 0.000029</td>\n",
        "      <td>-0.819953</td>\n",
        "      <td>-0.000012</td>\n",
        "      <td> 0.000000</td>\n",
        "      <td> 0.000000</td>\n",
        "      <td>-2.221396</td>\n",
        "      <td>-0.000008</td>\n",
        "      <td>-2.594258</td>\n",
        "      <td>-0.000007</td>\n",
        "    </tr>\n",
        "    <tr>\n",
        "      <th>mtx</th>\n",
        "      <td> 150</td>\n",
        "      <td>  1</td>\n",
        "      <td>  5</td>\n",
        "      <td> 16</td>\n",
        "      <td>  29</td>\n",
        "      <td>  99</td>\n",
        "      <td> 0.221871</td>\n",
        "      <td> 0.000009</td>\n",
        "      <td>-0.174130</td>\n",
        "      <td>-0.000005</td>\n",
        "      <td> 0.103710</td>\n",
        "      <td> 0.000004</td>\n",
        "      <td>-0.625381</td>\n",
        "      <td>-0.000012</td>\n",
        "      <td>-2.607681</td>\n",
        "      <td>-0.000007</td>\n",
        "    </tr>\n",
        "    <tr>\n",
        "      <th>affordable</th>\n",
        "      <td> 600</td>\n",
        "      <td>  4</td>\n",
        "      <td> 10</td>\n",
        "      <td> 28</td>\n",
        "      <td> 119</td>\n",
        "      <td> 439</td>\n",
        "      <td> 0.324956</td>\n",
        "      <td> 0.000060</td>\n",
        "      <td>-0.148597</td>\n",
        "      <td>-0.000017</td>\n",
        "      <td>-0.722968</td>\n",
        "      <td>-0.000048</td>\n",
        "      <td>-1.318528</td>\n",
        "      <td>-0.000049</td>\n",
        "      <td>-2.607681</td>\n",
        "      <td>-0.000026</td>\n",
        "    </tr>\n",
        "    <tr>\n",
        "      <th>loving</th>\n",
        "      <td> 153</td>\n",
        "      <td>  1</td>\n",
        "      <td>  3</td>\n",
        "      <td>  5</td>\n",
        "      <td>  22</td>\n",
        "      <td> 122</td>\n",
        "      <td> 0.410970</td>\n",
        "      <td> 0.000021</td>\n",
        "      <td>-0.470186</td>\n",
        "      <td>-0.000010</td>\n",
        "      <td>-1.079243</td>\n",
        "      <td>-0.000013</td>\n",
        "      <td>-1.156009</td>\n",
        "      <td>-0.000013</td>\n",
        "      <td>-2.627484</td>\n",
        "      <td>-0.000007</td>\n",
        "    </tr>\n",
        "    <tr>\n",
        "      <th>lifestyle</th>\n",
        "      <td> 155</td>\n",
        "      <td>  1</td>\n",
        "      <td>  5</td>\n",
        "      <td>  5</td>\n",
        "      <td>   7</td>\n",
        "      <td> 137</td>\n",
        "      <td> 0.513942</td>\n",
        "      <td> 0.000030</td>\n",
        "      <td>-1.628306</td>\n",
        "      <td>-0.000011</td>\n",
        "      <td>-1.092230</td>\n",
        "      <td>-0.000013</td>\n",
        "      <td>-0.658171</td>\n",
        "      <td>-0.000012</td>\n",
        "      <td>-2.640471</td>\n",
        "      <td>-0.000007</td>\n",
        "    </tr>\n",
        "    <tr>\n",
        "      <th>zones</th>\n",
        "      <td> 156</td>\n",
        "      <td>  1</td>\n",
        "      <td> 10</td>\n",
        "      <td> 14</td>\n",
        "      <td>  56</td>\n",
        "      <td>  75</td>\n",
        "      <td>-0.094981</td>\n",
        "      <td>-0.000003</td>\n",
        "      <td> 0.444705</td>\n",
        "      <td> 0.000024</td>\n",
        "      <td>-0.069042</td>\n",
        "      <td>-0.000002</td>\n",
        "      <td> 0.028545</td>\n",
        "      <td> 0.000001</td>\n",
        "      <td>-2.646902</td>\n",
        "      <td>-0.000007</td>\n",
        "    </tr>\n",
        "    <tr>\n",
        "      <th>mtb</th>\n",
        "      <td> 161</td>\n",
        "      <td>  1</td>\n",
        "      <td>  7</td>\n",
        "      <td> 10</td>\n",
        "      <td>  35</td>\n",
        "      <td> 108</td>\n",
        "      <td> 0.238113</td>\n",
        "      <td> 0.000011</td>\n",
        "      <td>-0.056847</td>\n",
        "      <td>-0.000002</td>\n",
        "      <td>-0.437062</td>\n",
        "      <td>-0.000010</td>\n",
        "      <td>-0.359678</td>\n",
        "      <td>-0.000009</td>\n",
        "      <td>-2.678451</td>\n",
        "      <td>-0.000007</td>\n",
        "    </tr>\n",
        "    <tr>\n",
        "      <th>trade</th>\n",
        "      <td> 162</td>\n",
        "      <td>  1</td>\n",
        "      <td>  9</td>\n",
        "      <td> 15</td>\n",
        "      <td>  48</td>\n",
        "      <td>  89</td>\n",
        "      <td> 0.038426</td>\n",
        "      <td> 0.000001</td>\n",
        "      <td> 0.252814</td>\n",
        "      <td> 0.000012</td>\n",
        "      <td>-0.037789</td>\n",
        "      <td>-0.000001</td>\n",
        "      <td>-0.114555</td>\n",
        "      <td>-0.000004</td>\n",
        "      <td>-2.684642</td>\n",
        "      <td>-0.000007</td>\n",
        "    </tr>\n",
        "    <tr>\n",
        "      <th>fun!</th>\n",
        "      <td> 166</td>\n",
        "      <td>  1</td>\n",
        "      <td>  2</td>\n",
        "      <td>  4</td>\n",
        "      <td>  34</td>\n",
        "      <td> 125</td>\n",
        "      <td> 0.353712</td>\n",
        "      <td> 0.000019</td>\n",
        "      <td>-0.116418</td>\n",
        "      <td>-0.000004</td>\n",
        "      <td>-1.383936</td>\n",
        "      <td>-0.000013</td>\n",
        "      <td>-1.643024</td>\n",
        "      <td>-0.000012</td>\n",
        "      <td>-2.709034</td>\n",
        "      <td>-0.000007</td>\n",
        "    </tr>\n",
        "    <tr>\n",
        "      <th>pleasantly</th>\n",
        "      <td> 332</td>\n",
        "      <td>  2</td>\n",
        "      <td> 24</td>\n",
        "      <td>  5</td>\n",
        "      <td>  59</td>\n",
        "      <td> 242</td>\n",
        "      <td> 0.321189</td>\n",
        "      <td> 0.000033</td>\n",
        "      <td>-0.258388</td>\n",
        "      <td>-0.000015</td>\n",
        "      <td>-1.853940</td>\n",
        "      <td>-0.000022</td>\n",
        "      <td> 0.148735</td>\n",
        "      <td> 0.000013</td>\n",
        "      <td>-2.709034</td>\n",
        "      <td>-0.000014</td>\n",
        "    </tr>\n",
        "    <tr>\n",
        "      <th>hikes</th>\n",
        "      <td> 167</td>\n",
        "      <td>  1</td>\n",
        "      <td>  4</td>\n",
        "      <td> 14</td>\n",
        "      <td>  36</td>\n",
        "      <td> 112</td>\n",
        "      <td> 0.237891</td>\n",
        "      <td> 0.000011</td>\n",
        "      <td>-0.065266</td>\n",
        "      <td>-0.000002</td>\n",
        "      <td>-0.137179</td>\n",
        "      <td>-0.000005</td>\n",
        "      <td>-0.955883</td>\n",
        "      <td>-0.000014</td>\n",
        "      <td>-2.715040</td>\n",
        "      <td>-0.000007</td>\n",
        "    </tr>\n",
        "    <tr>\n",
        "      <th>picking</th>\n",
        "      <td> 168</td>\n",
        "      <td>  1</td>\n",
        "      <td>  7</td>\n",
        "      <td> 11</td>\n",
        "      <td>  44</td>\n",
        "      <td> 105</td>\n",
        "      <td> 0.167383</td>\n",
        "      <td> 0.000007</td>\n",
        "      <td> 0.129435</td>\n",
        "      <td> 0.000006</td>\n",
        "      <td>-0.384312</td>\n",
        "      <td>-0.000010</td>\n",
        "      <td>-0.402237</td>\n",
        "      <td>-0.000010</td>\n",
        "      <td>-2.721010</td>\n",
        "      <td>-0.000007</td>\n",
        "    </tr>\n",
        "    <tr>\n",
        "      <th>ample</th>\n",
        "      <td> 168</td>\n",
        "      <td>  1</td>\n",
        "      <td>  5</td>\n",
        "      <td>  8</td>\n",
        "      <td>  53</td>\n",
        "      <td> 101</td>\n",
        "      <td> 0.128543</td>\n",
        "      <td> 0.000005</td>\n",
        "      <td> 0.315537</td>\n",
        "      <td> 0.000016</td>\n",
        "      <td>-0.702765</td>\n",
        "      <td>-0.000013</td>\n",
        "      <td>-0.738710</td>\n",
        "      <td>-0.000014</td>\n",
        "      <td>-2.721010</td>\n",
        "      <td>-0.000007</td>\n",
        "    </tr>\n",
        "    <tr>\n",
        "      <th>es</th>\n",
        "      <td> 508</td>\n",
        "      <td>  3</td>\n",
        "      <td>  7</td>\n",
        "      <td>  4</td>\n",
        "      <td>  53</td>\n",
        "      <td> 441</td>\n",
        "      <td> 0.495950</td>\n",
        "      <td> 0.000092</td>\n",
        "      <td>-0.790980</td>\n",
        "      <td>-0.000041</td>\n",
        "      <td>-2.502430</td>\n",
        "      <td>-0.000024</td>\n",
        "      <td>-1.508755</td>\n",
        "      <td>-0.000039</td>\n",
        "      <td>-2.728915</td>\n",
        "      <td>-0.000021</td>\n",
        "    </tr>\n",
        "    <tr>\n",
        "      <th>generously</th>\n",
        "      <td> 174</td>\n",
        "      <td>  1</td>\n",
        "      <td>  2</td>\n",
        "      <td>  2</td>\n",
        "      <td>   5</td>\n",
        "      <td> 164</td>\n",
        "      <td> 0.578198</td>\n",
        "      <td> 0.000040</td>\n",
        "      <td>-2.080408</td>\n",
        "      <td>-0.000010</td>\n",
        "      <td>-2.124151</td>\n",
        "      <td>-0.000010</td>\n",
        "      <td>-1.690092</td>\n",
        "      <td>-0.000012</td>\n",
        "      <td>-2.756101</td>\n",
        "      <td>-0.000007</td>\n",
        "    </tr>\n",
        "    <tr>\n",
        "      <th>pros</th>\n",
        "      <td> 175</td>\n",
        "      <td>  1</td>\n",
        "      <td>  9</td>\n",
        "      <td> 20</td>\n",
        "      <td>  59</td>\n",
        "      <td>  86</td>\n",
        "      <td>-0.073052</td>\n",
        "      <td>-0.000003</td>\n",
        "      <td> 0.381961</td>\n",
        "      <td> 0.000022</td>\n",
        "      <td> 0.172703</td>\n",
        "      <td> 0.000008</td>\n",
        "      <td>-0.191745</td>\n",
        "      <td>-0.000006</td>\n",
        "      <td>-2.761832</td>\n",
        "      <td>-0.000007</td>\n",
        "    </tr>\n",
        "    <tr>\n",
        "      <th>wonderfully</th>\n",
        "      <td> 180</td>\n",
        "      <td>  1</td>\n",
        "      <td>  3</td>\n",
        "      <td>  7</td>\n",
        "      <td>  34</td>\n",
        "      <td> 135</td>\n",
        "      <td> 0.349704</td>\n",
        "      <td> 0.000020</td>\n",
        "      <td>-0.197387</td>\n",
        "      <td>-0.000007</td>\n",
        "      <td>-0.905290</td>\n",
        "      <td>-0.000015</td>\n",
        "      <td>-1.318528</td>\n",
        "      <td>-0.000015</td>\n",
        "      <td>-2.790003</td>\n",
        "      <td>-0.000007</td>\n",
        "    </tr>\n",
        "    <tr>\n",
        "      <th>las</th>\n",
        "      <td> 187</td>\n",
        "      <td>  1</td>\n",
        "      <td>  2</td>\n",
        "      <td>  3</td>\n",
        "      <td>  11</td>\n",
        "      <td> 170</td>\n",
        "      <td> 0.542076</td>\n",
        "      <td> 0.000039</td>\n",
        "      <td>-1.364004</td>\n",
        "      <td>-0.000015</td>\n",
        "      <td>-1.790739</td>\n",
        "      <td>-0.000013</td>\n",
        "      <td>-1.762145</td>\n",
        "      <td>-0.000013</td>\n",
        "      <td>-2.828155</td>\n",
        "      <td>-0.000007</td>\n",
        "    </tr>\n",
        "    <tr>\n",
        "      <th>cushioning</th>\n",
        "      <td> 187</td>\n",
        "      <td>  1</td>\n",
        "      <td> 15</td>\n",
        "      <td> 14</td>\n",
        "      <td>  51</td>\n",
        "      <td> 106</td>\n",
        "      <td> 0.069717</td>\n",
        "      <td> 0.000003</td>\n",
        "      <td> 0.169926</td>\n",
        "      <td> 0.000008</td>\n",
        "      <td>-0.250294</td>\n",
        "      <td>-0.000008</td>\n",
        "      <td> 0.252758</td>\n",
        "      <td> 0.000014</td>\n",
        "      <td>-2.828155</td>\n",
        "      <td>-0.000007</td>\n",
        "    </tr>\n",
        "    <tr>\n",
        "      <th>well-made</th>\n",
        "      <td> 381</td>\n",
        "      <td>  2</td>\n",
        "      <td> 11</td>\n",
        "      <td> 15</td>\n",
        "      <td>  76</td>\n",
        "      <td> 277</td>\n",
        "      <td> 0.318605</td>\n",
        "      <td> 0.000037</td>\n",
        "      <td>-0.142857</td>\n",
        "      <td>-0.000011</td>\n",
        "      <td>-0.892992</td>\n",
        "      <td>-0.000032</td>\n",
        "      <td>-0.769088</td>\n",
        "      <td>-0.000031</td>\n",
        "      <td>-2.846698</td>\n",
        "      <td>-0.000014</td>\n",
        "    </tr>\n",
        "    <tr>\n",
        "      <th>versatile</th>\n",
        "      <td> 397</td>\n",
        "      <td>  2</td>\n",
        "      <td> 24</td>\n",
        "      <td> 19</td>\n",
        "      <td>  74</td>\n",
        "      <td> 278</td>\n",
        "      <td> 0.281071</td>\n",
        "      <td> 0.000033</td>\n",
        "      <td>-0.210662</td>\n",
        "      <td>-0.000015</td>\n",
        "      <td>-0.697740</td>\n",
        "      <td>-0.000031</td>\n",
        "      <td>-0.030066</td>\n",
        "      <td>-0.000003</td>\n",
        "      <td>-2.887835</td>\n",
        "      <td>-0.000015</td>\n",
        "    </tr>\n",
        "    <tr>\n",
        "      <th>chafing</th>\n",
        "      <td> 208</td>\n",
        "      <td>  1</td>\n",
        "      <td>  2</td>\n",
        "      <td> 14</td>\n",
        "      <td>  30</td>\n",
        "      <td> 161</td>\n",
        "      <td> 0.381253</td>\n",
        "      <td> 0.000026</td>\n",
        "      <td>-0.467131</td>\n",
        "      <td>-0.000014</td>\n",
        "      <td>-0.356724</td>\n",
        "      <td>-0.000012</td>\n",
        "      <td>-1.868575</td>\n",
        "      <td>-0.000014</td>\n",
        "      <td>-2.934584</td>\n",
        "      <td>-0.000007</td>\n",
        "    </tr>\n",
        "    <tr>\n",
        "      <th>exceptional</th>\n",
        "      <td> 208</td>\n",
        "      <td>  1</td>\n",
        "      <td>  2</td>\n",
        "      <td>  7</td>\n",
        "      <td>  95</td>\n",
        "      <td> 103</td>\n",
        "      <td>-0.065423</td>\n",
        "      <td>-0.000003</td>\n",
        "      <td> 0.685548</td>\n",
        "      <td> 0.000063</td>\n",
        "      <td>-1.049871</td>\n",
        "      <td>-0.000017</td>\n",
        "      <td>-1.868575</td>\n",
        "      <td>-0.000014</td>\n",
        "      <td>-2.934584</td>\n",
        "      <td>-0.000007</td>\n",
        "    </tr>\n",
        "    <tr>\n",
        "      <th>quality;</th>\n",
        "      <td> 210</td>\n",
        "      <td>  1</td>\n",
        "      <td>  1</td>\n",
        "      <td>  2</td>\n",
        "      <td> 201</td>\n",
        "      <td>   5</td>\n",
        "      <td>-3.100283</td>\n",
        "      <td>-0.000007</td>\n",
        "      <td> 1.425407</td>\n",
        "      <td> 0.000279</td>\n",
        "      <td>-2.312203</td>\n",
        "      <td>-0.000011</td>\n",
        "      <td>-2.571291</td>\n",
        "      <td>-0.000009</td>\n",
        "      <td>-2.944154</td>\n",
        "      <td>-0.000007</td>\n",
        "    </tr>\n",
        "    <tr>\n",
        "      <th>wrinkle</th>\n",
        "      <td> 230</td>\n",
        "      <td>  1</td>\n",
        "      <td>  0</td>\n",
        "      <td>  2</td>\n",
        "      <td> 197</td>\n",
        "      <td>  30</td>\n",
        "      <td>-1.399495</td>\n",
        "      <td>-0.000018</td>\n",
        "      <td> 1.314334</td>\n",
        "      <td> 0.000252</td>\n",
        "      <td>-2.403175</td>\n",
        "      <td>-0.000011</td>\n",
        "      <td> 0.000000</td>\n",
        "      <td> 0.000000</td>\n",
        "      <td>-3.035125</td>\n",
        "      <td>-0.000008</td>\n",
        "    </tr>\n",
        "    <tr>\n",
        "      <th>dries</th>\n",
        "      <td> 243</td>\n",
        "      <td>  1</td>\n",
        "      <td>  2</td>\n",
        "      <td>  3</td>\n",
        "      <td>  52</td>\n",
        "      <td> 185</td>\n",
        "      <td> 0.364681</td>\n",
        "      <td> 0.000028</td>\n",
        "      <td>-0.072608</td>\n",
        "      <td>-0.000004</td>\n",
        "      <td>-2.052692</td>\n",
        "      <td>-0.000015</td>\n",
        "      <td>-2.024098</td>\n",
        "      <td>-0.000015</td>\n",
        "      <td>-3.090108</td>\n",
        "      <td>-0.000008</td>\n",
        "    </tr>\n",
        "    <tr>\n",
        "      <th>sweater</th>\n",
        "      <td> 249</td>\n",
        "      <td>  1</td>\n",
        "      <td>  1</td>\n",
        "      <td>  4</td>\n",
        "      <td>  59</td>\n",
        "      <td> 184</td>\n",
        "      <td> 0.334869</td>\n",
        "      <td> 0.000026</td>\n",
        "      <td> 0.029294</td>\n",
        "      <td> 0.000002</td>\n",
        "      <td>-1.789402</td>\n",
        "      <td>-0.000017</td>\n",
        "      <td>-2.741637</td>\n",
        "      <td>-0.000010</td>\n",
        "      <td>-3.114499</td>\n",
        "      <td>-0.000008</td>\n",
        "    </tr>\n",
        "    <tr>\n",
        "      <th>comfy</th>\n",
        "      <td> 752</td>\n",
        "      <td>  3</td>\n",
        "      <td> 15</td>\n",
        "      <td> 38</td>\n",
        "      <td> 145</td>\n",
        "      <td> 551</td>\n",
        "      <td> 0.326385</td>\n",
        "      <td> 0.000076</td>\n",
        "      <td>-0.176793</td>\n",
        "      <td>-0.000025</td>\n",
        "      <td>-0.643393</td>\n",
        "      <td>-0.000058</td>\n",
        "      <td>-1.138870</td>\n",
        "      <td>-0.000063</td>\n",
        "      <td>-3.121170</td>\n",
        "      <td>-0.000024</td>\n",
        "    </tr>\n",
        "    <tr>\n",
        "      <th>beautifully</th>\n",
        "      <td> 262</td>\n",
        "      <td>  1</td>\n",
        "      <td> 10</td>\n",
        "      <td>  8</td>\n",
        "      <td>  34</td>\n",
        "      <td> 209</td>\n",
        "      <td> 0.411376</td>\n",
        "      <td> 0.000036</td>\n",
        "      <td>-0.572775</td>\n",
        "      <td>-0.000019</td>\n",
        "      <td>-1.147146</td>\n",
        "      <td>-0.000022</td>\n",
        "      <td>-0.489943</td>\n",
        "      <td>-0.000018</td>\n",
        "      <td>-3.165391</td>\n",
        "      <td>-0.000008</td>\n",
        "    </tr>\n",
        "    <tr>\n",
        "      <th>superb</th>\n",
        "      <td> 284</td>\n",
        "      <td>  1</td>\n",
        "      <td>  4</td>\n",
        "      <td>  7</td>\n",
        "      <td>  32</td>\n",
        "      <td> 240</td>\n",
        "      <td> 0.469051</td>\n",
        "      <td> 0.000048</td>\n",
        "      <td>-0.714029</td>\n",
        "      <td>-0.000022</td>\n",
        "      <td>-1.361307</td>\n",
        "      <td>-0.000022</td>\n",
        "      <td>-1.486864</td>\n",
        "      <td>-0.000022</td>\n",
        "      <td>-3.246020</td>\n",
        "      <td>-0.000008</td>\n",
        "    </tr>\n",
        "  </tbody>\n",
        "</table>\n",
        "<p>17105 rows \u00d7 16 columns</p>\n",
        "</div>"
       ],
       "metadata": {},
       "output_type": "pyout",
       "prompt_number": 43,
       "text": [
        "                  total  total1  total2  total3  total4  total5  log_ratio5  \\\n",
        "forfeited            75      75       0       0       0       0    0.000000   \n",
        "unixex               17      17       0       0       0       0    0.000000   \n",
        "\"bears\"              21      21       0       0       0       0    0.000000   \n",
        "fit!\"                15      15       0       0       0       0    0.000000   \n",
        "vest!!!!!            21      21       0       0       0       0    0.000000   \n",
        "consaulted           21      21       0       0       0       0    0.000000   \n",
        "tank-top             15      15       0       0       0       0    0.000000   \n",
        "imitations!!!!!      21      21       0       0       0       0    0.000000   \n",
        "zac                  97      97       0       0       0       0    0.000000   \n",
        "nordstrum            30      30       0       0       0       0    0.000000   \n",
        "90s!                 47      47       0       0       0       0    0.000000   \n",
        "boo!                 22      22       0       0       0       0    0.000000   \n",
        "\"lures               15      15       0       0       0       0    0.000000   \n",
        "ribbing?             47      47       0       0       0       0    0.000000   \n",
        "\"sweater\"            17      17       0       0       0       0    0.000000   \n",
        "breeches!)           43      43       0       0       0       0    0.000000   \n",
        "1/12                 15      15       0       0       0       0    0.000000   \n",
        "page!                29      29       0       0       0       0    0.000000   \n",
        "(1-800-569-9038)     29      29       0       0       0       0    0.000000   \n",
        "still--              29      29       0       0       0       0    0.000000   \n",
        "----looking          23      23       0       0       0       0    0.000000   \n",
        "store/co             17      17       0       0       0       0    0.000000   \n",
        "wasit                19      19       0       0       0       0    0.000000   \n",
        "amazon/this          23      23       0       0       0       0    0.000000   \n",
        "\"breezy              17      17       0       0       0       0    0.000000   \n",
        "nothing!!!!!!!       23      23       0       0       0       0    0.000000   \n",
        "\"husky\"              17      17       0       0       0       0    0.000000   \n",
        "\"men's\"??            23      23       0       0       0       0    0.000000   \n",
        "xxl!                 17      17       0       0       0       0    0.000000   \n",
        "ribbing-removed      23      23       0       0       0       0    0.000000   \n",
        "...                 ...     ...     ...     ...     ...     ...         ...   \n",
        "comfortable!        148       1       1       0      15     131    0.515371   \n",
        "mtx                 150       1       5      16      29      99    0.221871   \n",
        "affordable          600       4      10      28     119     439    0.324956   \n",
        "loving              153       1       3       5      22     122    0.410970   \n",
        "lifestyle           155       1       5       5       7     137    0.513942   \n",
        "zones               156       1      10      14      56      75   -0.094981   \n",
        "mtb                 161       1       7      10      35     108    0.238113   \n",
        "trade               162       1       9      15      48      89    0.038426   \n",
        "fun!                166       1       2       4      34     125    0.353712   \n",
        "pleasantly          332       2      24       5      59     242    0.321189   \n",
        "hikes               167       1       4      14      36     112    0.237891   \n",
        "picking             168       1       7      11      44     105    0.167383   \n",
        "ample               168       1       5       8      53     101    0.128543   \n",
        "es                  508       3       7       4      53     441    0.495950   \n",
        "generously          174       1       2       2       5     164    0.578198   \n",
        "pros                175       1       9      20      59      86   -0.073052   \n",
        "wonderfully         180       1       3       7      34     135    0.349704   \n",
        "las                 187       1       2       3      11     170    0.542076   \n",
        "cushioning          187       1      15      14      51     106    0.069717   \n",
        "well-made           381       2      11      15      76     277    0.318605   \n",
        "versatile           397       2      24      19      74     278    0.281071   \n",
        "chafing             208       1       2      14      30     161    0.381253   \n",
        "exceptional         208       1       2       7      95     103   -0.065423   \n",
        "quality;            210       1       1       2     201       5   -3.100283   \n",
        "wrinkle             230       1       0       2     197      30   -1.399495   \n",
        "dries               243       1       2       3      52     185    0.364681   \n",
        "sweater             249       1       1       4      59     184    0.334869   \n",
        "comfy               752       3      15      38     145     551    0.326385   \n",
        "beautifully         262       1      10       8      34     209    0.411376   \n",
        "superb              284       1       4       7      32     240    0.469051   \n",
        "\n",
        "                  log_likelihood5  log_ratio4  log_likelihood4  log_ratio3  \\\n",
        "forfeited                0.000000    0.000000         0.000000    0.000000   \n",
        "unixex                   0.000000    0.000000         0.000000    0.000000   \n",
        "\"bears\"                  0.000000    0.000000         0.000000    0.000000   \n",
        "fit!\"                    0.000000    0.000000         0.000000    0.000000   \n",
        "vest!!!!!                0.000000    0.000000         0.000000    0.000000   \n",
        "consaulted               0.000000    0.000000         0.000000    0.000000   \n",
        "tank-top                 0.000000    0.000000         0.000000    0.000000   \n",
        "imitations!!!!!          0.000000    0.000000         0.000000    0.000000   \n",
        "zac                      0.000000    0.000000         0.000000    0.000000   \n",
        "nordstrum                0.000000    0.000000         0.000000    0.000000   \n",
        "90s!                     0.000000    0.000000         0.000000    0.000000   \n",
        "boo!                     0.000000    0.000000         0.000000    0.000000   \n",
        "\"lures                   0.000000    0.000000         0.000000    0.000000   \n",
        "ribbing?                 0.000000    0.000000         0.000000    0.000000   \n",
        "\"sweater\"                0.000000    0.000000         0.000000    0.000000   \n",
        "breeches!)               0.000000    0.000000         0.000000    0.000000   \n",
        "1/12                     0.000000    0.000000         0.000000    0.000000   \n",
        "page!                    0.000000    0.000000         0.000000    0.000000   \n",
        "(1-800-569-9038)         0.000000    0.000000         0.000000    0.000000   \n",
        "still--                  0.000000    0.000000         0.000000    0.000000   \n",
        "----looking              0.000000    0.000000         0.000000    0.000000   \n",
        "store/co                 0.000000    0.000000         0.000000    0.000000   \n",
        "wasit                    0.000000    0.000000         0.000000    0.000000   \n",
        "amazon/this              0.000000    0.000000         0.000000    0.000000   \n",
        "\"breezy                  0.000000    0.000000         0.000000    0.000000   \n",
        "nothing!!!!!!!           0.000000    0.000000         0.000000    0.000000   \n",
        "\"husky\"                  0.000000    0.000000         0.000000    0.000000   \n",
        "\"men's\"??                0.000000    0.000000         0.000000    0.000000   \n",
        "xxl!                     0.000000    0.000000         0.000000    0.000000   \n",
        "ribbing-removed          0.000000    0.000000         0.000000    0.000000   \n",
        "...                           ...         ...              ...         ...   \n",
        "comfortable!             0.000029   -0.819953        -0.000012    0.000000   \n",
        "mtx                      0.000009   -0.174130        -0.000005    0.103710   \n",
        "affordable               0.000060   -0.148597        -0.000017   -0.722968   \n",
        "loving                   0.000021   -0.470186        -0.000010   -1.079243   \n",
        "lifestyle                0.000030   -1.628306        -0.000011   -1.092230   \n",
        "zones                   -0.000003    0.444705         0.000024   -0.069042   \n",
        "mtb                      0.000011   -0.056847        -0.000002   -0.437062   \n",
        "trade                    0.000001    0.252814         0.000012   -0.037789   \n",
        "fun!                     0.000019   -0.116418        -0.000004   -1.383936   \n",
        "pleasantly               0.000033   -0.258388        -0.000015   -1.853940   \n",
        "hikes                    0.000011   -0.065266        -0.000002   -0.137179   \n",
        "picking                  0.000007    0.129435         0.000006   -0.384312   \n",
        "ample                    0.000005    0.315537         0.000016   -0.702765   \n",
        "es                       0.000092   -0.790980        -0.000041   -2.502430   \n",
        "generously               0.000040   -2.080408        -0.000010   -2.124151   \n",
        "pros                    -0.000003    0.381961         0.000022    0.172703   \n",
        "wonderfully              0.000020   -0.197387        -0.000007   -0.905290   \n",
        "las                      0.000039   -1.364004        -0.000015   -1.790739   \n",
        "cushioning               0.000003    0.169926         0.000008   -0.250294   \n",
        "well-made                0.000037   -0.142857        -0.000011   -0.892992   \n",
        "versatile                0.000033   -0.210662        -0.000015   -0.697740   \n",
        "chafing                  0.000026   -0.467131        -0.000014   -0.356724   \n",
        "exceptional             -0.000003    0.685548         0.000063   -1.049871   \n",
        "quality;                -0.000007    1.425407         0.000279   -2.312203   \n",
        "wrinkle                 -0.000018    1.314334         0.000252   -2.403175   \n",
        "dries                    0.000028   -0.072608        -0.000004   -2.052692   \n",
        "sweater                  0.000026    0.029294         0.000002   -1.789402   \n",
        "comfy                    0.000076   -0.176793        -0.000025   -0.643393   \n",
        "beautifully              0.000036   -0.572775        -0.000019   -1.147146   \n",
        "superb                   0.000048   -0.714029        -0.000022   -1.361307   \n",
        "\n",
        "                  log_likelihood3  log_ratio2  log_likelihood2  log_ratio1  \\\n",
        "forfeited                0.000000    0.000000         0.000000    2.402954   \n",
        "unixex                   0.000000    0.000000         0.000000    2.402954   \n",
        "\"bears\"                  0.000000    0.000000         0.000000    2.402954   \n",
        "fit!\"                    0.000000    0.000000         0.000000    2.402954   \n",
        "vest!!!!!                0.000000    0.000000         0.000000    2.402954   \n",
        "consaulted               0.000000    0.000000         0.000000    2.402954   \n",
        "tank-top                 0.000000    0.000000         0.000000    2.402954   \n",
        "imitations!!!!!          0.000000    0.000000         0.000000    2.402954   \n",
        "zac                      0.000000    0.000000         0.000000    2.402954   \n",
        "nordstrum                0.000000    0.000000         0.000000    2.402954   \n",
        "90s!                     0.000000    0.000000         0.000000    2.402954   \n",
        "boo!                     0.000000    0.000000         0.000000    2.402954   \n",
        "\"lures                   0.000000    0.000000         0.000000    2.402954   \n",
        "ribbing?                 0.000000    0.000000         0.000000    2.402954   \n",
        "\"sweater\"                0.000000    0.000000         0.000000    2.402954   \n",
        "breeches!)               0.000000    0.000000         0.000000    2.402954   \n",
        "1/12                     0.000000    0.000000         0.000000    2.402954   \n",
        "page!                    0.000000    0.000000         0.000000    2.402954   \n",
        "(1-800-569-9038)         0.000000    0.000000         0.000000    2.402954   \n",
        "still--                  0.000000    0.000000         0.000000    2.402954   \n",
        "----looking              0.000000    0.000000         0.000000    2.402954   \n",
        "store/co                 0.000000    0.000000         0.000000    2.402954   \n",
        "wasit                    0.000000    0.000000         0.000000    2.402954   \n",
        "amazon/this              0.000000    0.000000         0.000000    2.402954   \n",
        "\"breezy                  0.000000    0.000000         0.000000    2.402954   \n",
        "nothing!!!!!!!           0.000000    0.000000         0.000000    2.402954   \n",
        "\"husky\"                  0.000000    0.000000         0.000000    2.402954   \n",
        "\"men's\"??                0.000000    0.000000         0.000000    2.402954   \n",
        "xxl!                     0.000000    0.000000         0.000000    2.402954   \n",
        "ribbing-removed          0.000000    0.000000         0.000000    2.402954   \n",
        "...                           ...         ...              ...         ...   \n",
        "comfortable!             0.000000   -2.221396        -0.000008   -2.594258   \n",
        "mtx                      0.000004   -0.625381        -0.000012   -2.607681   \n",
        "affordable              -0.000048   -1.318528        -0.000049   -2.607681   \n",
        "loving                  -0.000013   -1.156009        -0.000013   -2.627484   \n",
        "lifestyle               -0.000013   -0.658171        -0.000012   -2.640471   \n",
        "zones                   -0.000002    0.028545         0.000001   -2.646902   \n",
        "mtb                     -0.000010   -0.359678        -0.000009   -2.678451   \n",
        "trade                   -0.000001   -0.114555        -0.000004   -2.684642   \n",
        "fun!                    -0.000013   -1.643024        -0.000012   -2.709034   \n",
        "pleasantly              -0.000022    0.148735         0.000013   -2.709034   \n",
        "hikes                   -0.000005   -0.955883        -0.000014   -2.715040   \n",
        "picking                 -0.000010   -0.402237        -0.000010   -2.721010   \n",
        "ample                   -0.000013   -0.738710        -0.000014   -2.721010   \n",
        "es                      -0.000024   -1.508755        -0.000039   -2.728915   \n",
        "generously              -0.000010   -1.690092        -0.000012   -2.756101   \n",
        "pros                     0.000008   -0.191745        -0.000006   -2.761832   \n",
        "wonderfully             -0.000015   -1.318528        -0.000015   -2.790003   \n",
        "las                     -0.000013   -1.762145        -0.000013   -2.828155   \n",
        "cushioning              -0.000008    0.252758         0.000014   -2.828155   \n",
        "well-made               -0.000032   -0.769088        -0.000031   -2.846698   \n",
        "versatile               -0.000031   -0.030066        -0.000003   -2.887835   \n",
        "chafing                 -0.000012   -1.868575        -0.000014   -2.934584   \n",
        "exceptional             -0.000017   -1.868575        -0.000014   -2.934584   \n",
        "quality;                -0.000011   -2.571291        -0.000009   -2.944154   \n",
        "wrinkle                 -0.000011    0.000000         0.000000   -3.035125   \n",
        "dries                   -0.000015   -2.024098        -0.000015   -3.090108   \n",
        "sweater                 -0.000017   -2.741637        -0.000010   -3.114499   \n",
        "comfy                   -0.000058   -1.138870        -0.000063   -3.121170   \n",
        "beautifully             -0.000022   -0.489943        -0.000018   -3.165391   \n",
        "superb                  -0.000022   -1.486864        -0.000022   -3.246020   \n",
        "\n",
        "                  log_likelihood1  \n",
        "forfeited                0.000454  \n",
        "unixex                   0.000103  \n",
        "\"bears\"                  0.000127  \n",
        "fit!\"                    0.000091  \n",
        "vest!!!!!                0.000127  \n",
        "consaulted               0.000127  \n",
        "tank-top                 0.000091  \n",
        "imitations!!!!!          0.000127  \n",
        "zac                      0.000587  \n",
        "nordstrum                0.000182  \n",
        "90s!                     0.000285  \n",
        "boo!                     0.000133  \n",
        "\"lures                   0.000091  \n",
        "ribbing?                 0.000285  \n",
        "\"sweater\"                0.000103  \n",
        "breeches!)               0.000260  \n",
        "1/12                     0.000091  \n",
        "page!                    0.000176  \n",
        "(1-800-569-9038)         0.000176  \n",
        "still--                  0.000176  \n",
        "----looking              0.000139  \n",
        "store/co                 0.000103  \n",
        "wasit                    0.000115  \n",
        "amazon/this              0.000139  \n",
        "\"breezy                  0.000103  \n",
        "nothing!!!!!!!           0.000139  \n",
        "\"husky\"                  0.000103  \n",
        "\"men's\"??                0.000139  \n",
        "xxl!                     0.000103  \n",
        "ribbing-removed          0.000139  \n",
        "...                           ...  \n",
        "comfortable!            -0.000007  \n",
        "mtx                     -0.000007  \n",
        "affordable              -0.000026  \n",
        "loving                  -0.000007  \n",
        "lifestyle               -0.000007  \n",
        "zones                   -0.000007  \n",
        "mtb                     -0.000007  \n",
        "trade                   -0.000007  \n",
        "fun!                    -0.000007  \n",
        "pleasantly              -0.000014  \n",
        "hikes                   -0.000007  \n",
        "picking                 -0.000007  \n",
        "ample                   -0.000007  \n",
        "es                      -0.000021  \n",
        "generously              -0.000007  \n",
        "pros                    -0.000007  \n",
        "wonderfully             -0.000007  \n",
        "las                     -0.000007  \n",
        "cushioning              -0.000007  \n",
        "well-made               -0.000014  \n",
        "versatile               -0.000015  \n",
        "chafing                 -0.000007  \n",
        "exceptional             -0.000007  \n",
        "quality;                -0.000007  \n",
        "wrinkle                 -0.000008  \n",
        "dries                   -0.000008  \n",
        "sweater                 -0.000008  \n",
        "comfy                   -0.000024  \n",
        "beautifully             -0.000008  \n",
        "superb                  -0.000008  \n",
        "\n",
        "[17105 rows x 16 columns]"
       ]
      }
     ],
     "prompt_number": 43
    },
    {
     "cell_type": "code",
     "collapsed": false,
     "input": [
      "for i in range(1,6):\n",
      "    for j in range(i+1,6):\n",
      "        d=JS_DF(DF,'total'+str(i),'total'+str(j))\n",
      "        print 'i=%1d, j=%1d, js_divergence=%f'%(i,j,d[0])\n",
      "        print 'evidence for',i,','.join(d[1].index[:10])\n",
      "        print 'evidence for',j,','.join(d[2].index[:10])"
     ],
     "language": "python",
     "metadata": {},
     "outputs": [
      {
       "output_type": "stream",
       "stream": "stdout",
       "text": [
        "i=1, j=2, js_divergence=0.035197\n",
        "evidence for 1 amazon,product,ordered,never,received,return,money,shipping,company,waste\n",
        "evidence for 2 light,good,like,also,well,price,better,really,great,quality\n",
        "i=1, j=3, js_divergence=0.048441"
       ]
      },
      {
       "output_type": "stream",
       "stream": "stdout",
       "text": [
        "\n",
        "evidence for 1 product,amazon,return,money,never,ordered,received,company,item,waste\n",
        "evidence for 3 good,like,nice,well,little,price,it's,bit,vest,great\n",
        "i=1, j=4, js_divergence=0.052870"
       ]
      },
      {
       "output_type": "stream",
       "stream": "stdout",
       "text": [
        "\n",
        "evidence for 1 return,product,amazon,never,received,company,money,ordered,back,item\n",
        "evidence for 4 great,good,well,little,easy,it's,price,bit,like,nice\n",
        "i=1, j=5, js_divergence=0.039054"
       ]
      },
      {
       "output_type": "stream",
       "stream": "stdout",
       "text": [
        "\n",
        "evidence for 1 return,would,received,amazon,returned,company,money,broke,waste,product\n",
        "evidence for 5 great,well,easy,love,good,perfect,comfortable,price,little,best\n",
        "i=2, j=3, js_divergence=0.023985"
       ]
      },
      {
       "output_type": "stream",
       "stream": "stdout",
       "text": [
        "\n",
        "evidence for 2 disappointed,purchased,item,back,product,shirt,even,broke,two,poor\n",
        "evidence for 3 good,nice,like,it's,bit,little,price,would,well,pretty\n",
        "i=2, j=4, js_divergence=0.024273"
       ]
      },
      {
       "output_type": "stream",
       "stream": "stdout",
       "text": [
        "\n",
        "evidence for 2 disappointed,back,return,broke,returned,item,poor,quality,maybe,even\n",
        "evidence for 4 great,good,little,well,easy,it's,bit,price,comfortable,nice\n",
        "i=2, j=5, js_divergence=0.019043"
       ]
      },
      {
       "output_type": "stream",
       "stream": "stdout",
       "text": [
        "\n",
        "evidence for 2 disappointed,would,return,however,broke,back,plastic,maybe,poor,thin\n",
        "evidence for 5 great,love,easy,well,perfect,comfortable,best,good,recommend,highly\n",
        "i=3, j=4, js_divergence=0.019354"
       ]
      },
      {
       "output_type": "stream",
       "stream": "stdout",
       "text": [
        "\n",
        "evidence for 3 would,however,ok,short,ladies,better,vest,return,quality,description\n",
        "evidence for 4 great,well,easy,little,good,comfortable,happy,love,perfect,4\n",
        "i=3, j=5, js_divergence=0.020742"
       ]
      },
      {
       "output_type": "stream",
       "stream": "stdout",
       "text": [
        "\n",
        "evidence for 3 would,however,ok,like,seems,fine,small,short,maybe,vest\n",
        "evidence for 5 great,love,easy,perfect,comfortable,well,recommend,best,highly,years\n",
        "i=4, j=5, js_divergence=0.017638"
       ]
      },
      {
       "output_type": "stream",
       "stream": "stdout",
       "text": [
        "\n",
        "evidence for 4 would,little,good,stars,bit,like,however,though,overall,pretty\n",
        "evidence for 5 great,love,perfect,quality,best,highly,years,recommend,bought,easy\n"
       ]
      }
     ],
     "prompt_number": 81
    },
    {
     "cell_type": "code",
     "collapsed": false,
     "input": [
      "from time import time\n",
      "infile=open('/Users/yoavfreund/DSE200/DSE200/data/amazonProductReviews/SportsOutdoors.txt','r')\n",
      "tokenized_keys=['review/summary','review/text','product/title']\n",
      "\n",
      "scores={i:[] for i in range(1,6)}\n",
      "\n",
      "i=1\n",
      "t=time()\n",
      "for block in getBlocks(infile):\n",
      "    tokens=count_tokens(block['review/text'][0])\n",
      "    for k in tokens.keys():\n",
      "        count=tokens[k]\n",
      "        score=np.zeros([6])\n",
      "        if k in DF.index:\n",
      "            for j in range(1,6):\n",
      "                score[j]+=count*DF['log_ratio'+str(j)][k]\n",
      "    for j in range(1,6):\n",
      "        scores[j].append(score[j])\n",
      "    if (i % 2000)==0:\n",
      "        print i, count_all,time()-t\n",
      "        t=time()\n",
      "    #if i>10000:\n",
      "    #    break\n",
      "    \n",
      "    i+=1\n",
      "\n",
      "infile.close()\n",
      "#print counters"
     ],
     "language": "python",
     "metadata": {},
     "outputs": [
      {
       "output_type": "stream",
       "stream": "stdout",
       "text": [
        "2000 39083 6.94101500511\n",
        "4000"
       ]
      },
      {
       "output_type": "stream",
       "stream": "stdout",
       "text": [
        " 41083 6.12117981911\n",
        "6000"
       ]
      },
      {
       "output_type": "stream",
       "stream": "stdout",
       "text": [
        " 43083 6.14479494095\n",
        "8000"
       ]
      },
      {
       "output_type": "stream",
       "stream": "stdout",
       "text": [
        " 45083 6.2122490406\n",
        "10000"
       ]
      },
      {
       "output_type": "stream",
       "stream": "stdout",
       "text": [
        " 47083 5.60925197601\n",
        "12000"
       ]
      },
      {
       "output_type": "stream",
       "stream": "stdout",
       "text": [
        " 49083 4.62043619156\n",
        "14000"
       ]
      },
      {
       "output_type": "stream",
       "stream": "stdout",
       "text": [
        " 51083 5.19971489906\n",
        "16000"
       ]
      },
      {
       "output_type": "stream",
       "stream": "stdout",
       "text": [
        " 53083 6.16518211365\n",
        "18000"
       ]
      },
      {
       "output_type": "stream",
       "stream": "stdout",
       "text": [
        " 55083 5.86556720734\n",
        "20000"
       ]
      },
      {
       "output_type": "stream",
       "stream": "stdout",
       "text": [
        " 57083 6.53014111519\n",
        "22000"
       ]
      },
      {
       "output_type": "stream",
       "stream": "stdout",
       "text": [
        " 59083 7.12022185326\n",
        "24000"
       ]
      },
      {
       "output_type": "stream",
       "stream": "stdout",
       "text": [
        " 61083 6.1201031208\n",
        "26000"
       ]
      },
      {
       "output_type": "stream",
       "stream": "stdout",
       "text": [
        " 63083 6.50161004066\n",
        "28000"
       ]
      },
      {
       "output_type": "stream",
       "stream": "stdout",
       "text": [
        " 65083 7.0842859745\n",
        "30000"
       ]
      },
      {
       "output_type": "stream",
       "stream": "stdout",
       "text": [
        " 67083 6.4712460041\n",
        "32000"
       ]
      },
      {
       "output_type": "stream",
       "stream": "stdout",
       "text": [
        " 69083 6.20872211456\n",
        "34000"
       ]
      },
      {
       "output_type": "stream",
       "stream": "stdout",
       "text": [
        " 71083 6.11238694191\n",
        "36000"
       ]
      },
      {
       "output_type": "stream",
       "stream": "stdout",
       "text": [
        " 73083 6.84600996971\n",
        "38000"
       ]
      },
      {
       "output_type": "stream",
       "stream": "stdout",
       "text": [
        " 75083 5.98070788383\n",
        "40000"
       ]
      },
      {
       "output_type": "stream",
       "stream": "stdout",
       "text": [
        " 77083 6.07212495804\n",
        "42000"
       ]
      },
      {
       "output_type": "stream",
       "stream": "stdout",
       "text": [
        " 79083 5.72281479836\n",
        "44000"
       ]
      },
      {
       "output_type": "stream",
       "stream": "stdout",
       "text": [
        " 81083 6.69062805176\n",
        "46000"
       ]
      },
      {
       "output_type": "stream",
       "stream": "stdout",
       "text": [
        " 83083 6.65628290176\n",
        "48000"
       ]
      },
      {
       "output_type": "stream",
       "stream": "stdout",
       "text": [
        " 85083 5.95312714577\n",
        "50000"
       ]
      },
      {
       "output_type": "stream",
       "stream": "stdout",
       "text": [
        " 87083 6.17660093307\n",
        "52000"
       ]
      },
      {
       "output_type": "stream",
       "stream": "stdout",
       "text": [
        " 89083 6.75952506065\n",
        "54000"
       ]
      },
      {
       "output_type": "stream",
       "stream": "stdout",
       "text": [
        " 91083 6.03336000443\n",
        "56000"
       ]
      },
      {
       "output_type": "stream",
       "stream": "stdout",
       "text": [
        " 93083 5.75211811066\n",
        "58000"
       ]
      },
      {
       "output_type": "stream",
       "stream": "stdout",
       "text": [
        " 95083 6.8547270298\n",
        "60000"
       ]
      },
      {
       "output_type": "stream",
       "stream": "stdout",
       "text": [
        " 97083 5.71625781059\n",
        "62000"
       ]
      },
      {
       "output_type": "stream",
       "stream": "stdout",
       "text": [
        " 99083 6.57815504074\n",
        "64000"
       ]
      },
      {
       "output_type": "stream",
       "stream": "stdout",
       "text": [
        " 101083 6.35423898697\n",
        "66000"
       ]
      },
      {
       "output_type": "stream",
       "stream": "stdout",
       "text": [
        " 103083 5.40248799324\n",
        "68000"
       ]
      },
      {
       "output_type": "stream",
       "stream": "stdout",
       "text": [
        " 105083 5.7615571022\n",
        "70000"
       ]
      },
      {
       "output_type": "stream",
       "stream": "stdout",
       "text": [
        " 107083 6.89790606499\n",
        "72000"
       ]
      },
      {
       "output_type": "stream",
       "stream": "stdout",
       "text": [
        " 109083 6.20643687248\n",
        "74000"
       ]
      },
      {
       "output_type": "stream",
       "stream": "stdout",
       "text": [
        " 111083 5.42753911018\n",
        "76000"
       ]
      },
      {
       "output_type": "stream",
       "stream": "stdout",
       "text": [
        " 113083 5.8053958416\n",
        "78000"
       ]
      },
      {
       "output_type": "stream",
       "stream": "stdout",
       "text": [
        " 115083 6.31624913216\n",
        "80000"
       ]
      },
      {
       "output_type": "stream",
       "stream": "stdout",
       "text": [
        " 117083 6.70450901985\n",
        "82000"
       ]
      },
      {
       "output_type": "stream",
       "stream": "stdout",
       "text": [
        " 119083 6.32632684708\n",
        "84000"
       ]
      },
      {
       "output_type": "stream",
       "stream": "stdout",
       "text": [
        " 121083 5.40146803856\n",
        "86000"
       ]
      },
      {
       "output_type": "stream",
       "stream": "stdout",
       "text": [
        " 123083 6.10605096817\n",
        "88000"
       ]
      },
      {
       "output_type": "stream",
       "stream": "stdout",
       "text": [
        " 125083 6.30032777786\n",
        "90000"
       ]
      },
      {
       "output_type": "stream",
       "stream": "stdout",
       "text": [
        " 127083 6.43629598618\n",
        "92000"
       ]
      },
      {
       "output_type": "stream",
       "stream": "stdout",
       "text": [
        " 129083 6.40445613861\n",
        "94000"
       ]
      },
      {
       "output_type": "stream",
       "stream": "stdout",
       "text": [
        " 131083 6.99400496483\n",
        "96000"
       ]
      },
      {
       "output_type": "stream",
       "stream": "stdout",
       "text": [
        " 133083 6.66228485107\n",
        "98000"
       ]
      },
      {
       "output_type": "stream",
       "stream": "stdout",
       "text": [
        " 135083 5.59358906746\n",
        "100000"
       ]
      },
      {
       "output_type": "stream",
       "stream": "stdout",
       "text": [
        " 137083 7.55230498314\n",
        "102000"
       ]
      },
      {
       "output_type": "stream",
       "stream": "stdout",
       "text": [
        " 139083 5.84520697594\n",
        "104000"
       ]
      },
      {
       "output_type": "stream",
       "stream": "stdout",
       "text": [
        " 141083 5.5363368988\n",
        "106000"
       ]
      },
      {
       "output_type": "stream",
       "stream": "stdout",
       "text": [
        " 143083 6.17826914787\n",
        "108000"
       ]
      },
      {
       "output_type": "stream",
       "stream": "stdout",
       "text": [
        " 145083 6.24357485771\n",
        "110000"
       ]
      },
      {
       "output_type": "stream",
       "stream": "stdout",
       "text": [
        " 147083 7.041659832\n",
        "112000"
       ]
      },
      {
       "output_type": "stream",
       "stream": "stdout",
       "text": [
        " 149083 6.06227302551\n",
        "114000"
       ]
      },
      {
       "output_type": "stream",
       "stream": "stdout",
       "text": [
        " 151083 4.7040989399\n",
        "116000"
       ]
      },
      {
       "output_type": "stream",
       "stream": "stdout",
       "text": [
        " 153083 7.31173014641\n",
        "118000"
       ]
      },
      {
       "output_type": "stream",
       "stream": "stdout",
       "text": [
        " 155083 7.2803170681\n",
        "120000"
       ]
      },
      {
       "output_type": "stream",
       "stream": "stdout",
       "text": [
        " 157083 5.90924286842\n",
        "122000"
       ]
      },
      {
       "output_type": "stream",
       "stream": "stdout",
       "text": [
        " 159083 6.51646900177\n",
        "124000"
       ]
      },
      {
       "output_type": "stream",
       "stream": "stdout",
       "text": [
        " 161083 5.65175104141\n",
        "126000"
       ]
      },
      {
       "output_type": "stream",
       "stream": "stdout",
       "text": [
        " 163083 6.37899684906\n",
        "128000"
       ]
      },
      {
       "output_type": "stream",
       "stream": "stdout",
       "text": [
        " 165083 6.41745781898\n",
        "130000"
       ]
      },
      {
       "output_type": "stream",
       "stream": "stdout",
       "text": [
        " 167083 5.96439290047\n",
        "132000"
       ]
      },
      {
       "output_type": "stream",
       "stream": "stdout",
       "text": [
        " 169083 5.83132886887\n",
        "134000"
       ]
      },
      {
       "output_type": "stream",
       "stream": "stdout",
       "text": [
        " 171083 6.07708501816\n",
        "136000"
       ]
      },
      {
       "output_type": "stream",
       "stream": "stdout",
       "text": [
        " 173083 7.43124103546\n",
        "138000"
       ]
      },
      {
       "output_type": "stream",
       "stream": "stdout",
       "text": [
        " 175083 7.62338805199\n",
        "140000"
       ]
      },
      {
       "output_type": "stream",
       "stream": "stdout",
       "text": [
        " 177083 7.03321218491\n",
        "142000"
       ]
      },
      {
       "output_type": "stream",
       "stream": "stdout",
       "text": [
        " 179083 8.90420293808\n",
        "144000"
       ]
      },
      {
       "output_type": "stream",
       "stream": "stdout",
       "text": [
        " 181083 6.02722620964\n",
        "146000"
       ]
      },
      {
       "output_type": "stream",
       "stream": "stdout",
       "text": [
        " 183083 6.51744389534\n",
        "148000"
       ]
      },
      {
       "output_type": "stream",
       "stream": "stdout",
       "text": [
        " 185083 5.82642889023\n",
        "150000"
       ]
      },
      {
       "output_type": "stream",
       "stream": "stdout",
       "text": [
        " 187083 6.29920005798\n",
        "152000"
       ]
      },
      {
       "output_type": "stream",
       "stream": "stdout",
       "text": [
        " 189083 6.66080093384\n",
        "154000"
       ]
      },
      {
       "output_type": "stream",
       "stream": "stdout",
       "text": [
        " 191083 5.80737614632\n",
        "156000"
       ]
      },
      {
       "output_type": "stream",
       "stream": "stdout",
       "text": [
        " 193083 6.19581198692\n",
        "158000"
       ]
      },
      {
       "output_type": "stream",
       "stream": "stdout",
       "text": [
        " 195083 6.61393213272\n",
        "160000"
       ]
      },
      {
       "output_type": "stream",
       "stream": "stdout",
       "text": [
        " 197083 5.84554886818\n",
        "162000"
       ]
      },
      {
       "output_type": "stream",
       "stream": "stdout",
       "text": [
        " 199083 6.98102116585\n",
        "164000"
       ]
      },
      {
       "output_type": "stream",
       "stream": "stdout",
       "text": [
        " 201083 6.89468002319\n",
        "166000"
       ]
      },
      {
       "output_type": "stream",
       "stream": "stdout",
       "text": [
        " 203083 6.13038086891\n",
        "168000"
       ]
      },
      {
       "output_type": "stream",
       "stream": "stdout",
       "text": [
        " 205083 6.96562719345\n",
        "170000"
       ]
      },
      {
       "output_type": "stream",
       "stream": "stdout",
       "text": [
        " 207083 5.52365684509\n",
        "172000"
       ]
      },
      {
       "output_type": "stream",
       "stream": "stdout",
       "text": [
        " 209083 6.512403965\n",
        "174000"
       ]
      },
      {
       "output_type": "stream",
       "stream": "stdout",
       "text": [
        " 211083 6.81688499451\n",
        "176000"
       ]
      },
      {
       "output_type": "stream",
       "stream": "stdout",
       "text": [
        " 213083 6.532807827\n",
        "178000"
       ]
      },
      {
       "output_type": "stream",
       "stream": "stdout",
       "text": [
        " 215083 5.41781902313\n",
        "180000"
       ]
      },
      {
       "output_type": "stream",
       "stream": "stdout",
       "text": [
        " 217083 5.7020778656\n",
        "182000"
       ]
      },
      {
       "output_type": "stream",
       "stream": "stdout",
       "text": [
        " 219083 5.78336596489\n",
        "184000"
       ]
      },
      {
       "output_type": "stream",
       "stream": "stdout",
       "text": [
        " 221083 5.45414590836\n",
        "186000"
       ]
      },
      {
       "output_type": "stream",
       "stream": "stdout",
       "text": [
        " 223083 6.07090997696\n",
        "188000"
       ]
      },
      {
       "output_type": "stream",
       "stream": "stdout",
       "text": [
        " 225083 6.38152194023\n",
        "190000"
       ]
      },
      {
       "output_type": "stream",
       "stream": "stdout",
       "text": [
        " 227083 6.06297707558\n",
        "192000"
       ]
      },
      {
       "output_type": "stream",
       "stream": "stdout",
       "text": [
        " 229083 5.63005495071\n",
        "194000"
       ]
      },
      {
       "output_type": "stream",
       "stream": "stdout",
       "text": [
        " 231083 6.52695703506\n",
        "196000"
       ]
      },
      {
       "output_type": "stream",
       "stream": "stdout",
       "text": [
        " 233083 6.66861581802\n",
        "198000"
       ]
      },
      {
       "output_type": "stream",
       "stream": "stdout",
       "text": [
        " 235083 6.21346092224\n",
        "200000"
       ]
      },
      {
       "output_type": "stream",
       "stream": "stdout",
       "text": [
        " 237083 6.74352502823\n",
        "202000"
       ]
      },
      {
       "output_type": "stream",
       "stream": "stdout",
       "text": [
        " 239083 6.68715286255\n",
        "204000"
       ]
      },
      {
       "output_type": "stream",
       "stream": "stdout",
       "text": [
        " 241083 6.80033802986\n",
        "206000"
       ]
      },
      {
       "output_type": "stream",
       "stream": "stdout",
       "text": [
        " 243083 6.44740009308\n",
        "208000"
       ]
      },
      {
       "output_type": "stream",
       "stream": "stdout",
       "text": [
        " 245083 5.93938207626\n",
        "210000"
       ]
      },
      {
       "output_type": "stream",
       "stream": "stdout",
       "text": [
        " 247083 6.30064105988\n",
        "212000"
       ]
      },
      {
       "output_type": "stream",
       "stream": "stdout",
       "text": [
        " 249083 6.22738385201\n",
        "214000"
       ]
      },
      {
       "output_type": "stream",
       "stream": "stdout",
       "text": [
        " 251083 6.22140192986\n",
        "216000"
       ]
      },
      {
       "output_type": "stream",
       "stream": "stdout",
       "text": [
        " 253083 5.53551697731\n",
        "218000"
       ]
      },
      {
       "output_type": "stream",
       "stream": "stdout",
       "text": [
        " 255083 6.52191400528\n",
        "220000"
       ]
      },
      {
       "output_type": "stream",
       "stream": "stdout",
       "text": [
        " 257083 6.56682014465\n",
        "222000"
       ]
      },
      {
       "output_type": "stream",
       "stream": "stdout",
       "text": [
        " 259083 6.42704796791\n",
        "224000"
       ]
      },
      {
       "output_type": "stream",
       "stream": "stdout",
       "text": [
        " 261083 6.49841809273\n",
        "226000"
       ]
      },
      {
       "output_type": "stream",
       "stream": "stdout",
       "text": [
        " 263083 5.8255469799\n",
        "228000"
       ]
      },
      {
       "output_type": "stream",
       "stream": "stdout",
       "text": [
        " 265083 5.57360005379\n",
        "230000"
       ]
      },
      {
       "output_type": "stream",
       "stream": "stdout",
       "text": [
        " 267083 5.95294094086\n",
        "232000"
       ]
      },
      {
       "output_type": "stream",
       "stream": "stdout",
       "text": [
        " 269083 6.79256010056\n",
        "234000"
       ]
      },
      {
       "output_type": "stream",
       "stream": "stdout",
       "text": [
        " 271083 5.81750202179\n",
        "236000"
       ]
      },
      {
       "output_type": "stream",
       "stream": "stdout",
       "text": [
        " 273083 5.91357207298\n",
        "238000"
       ]
      },
      {
       "output_type": "stream",
       "stream": "stdout",
       "text": [
        " 275083 5.74442505836\n",
        "240000"
       ]
      },
      {
       "output_type": "stream",
       "stream": "stdout",
       "text": [
        " 277083 6.35101604462\n",
        "242000"
       ]
      },
      {
       "output_type": "stream",
       "stream": "stdout",
       "text": [
        " 279083 5.37640190125\n",
        "244000"
       ]
      },
      {
       "output_type": "stream",
       "stream": "stdout",
       "text": [
        " 281083 4.90840101242\n",
        "246000"
       ]
      },
      {
       "output_type": "stream",
       "stream": "stdout",
       "text": [
        " 283083 5.10888600349\n",
        "248000"
       ]
      },
      {
       "output_type": "stream",
       "stream": "stdout",
       "text": [
        " 285083 5.12161779404\n",
        "250000"
       ]
      },
      {
       "output_type": "stream",
       "stream": "stdout",
       "text": [
        " 287083 6.12235999107\n",
        "252000"
       ]
      },
      {
       "output_type": "stream",
       "stream": "stdout",
       "text": [
        " 289083 6.75242114067\n",
        "254000"
       ]
      },
      {
       "output_type": "stream",
       "stream": "stdout",
       "text": [
        " 291083 6.34276103973\n",
        "256000"
       ]
      },
      {
       "output_type": "stream",
       "stream": "stdout",
       "text": [
        " 293083 5.64816403389\n",
        "258000"
       ]
      },
      {
       "output_type": "stream",
       "stream": "stdout",
       "text": [
        " 295083 6.19039511681\n",
        "260000"
       ]
      },
      {
       "output_type": "stream",
       "stream": "stdout",
       "text": [
        " 297083 5.6958758831\n",
        "262000"
       ]
      },
      {
       "output_type": "stream",
       "stream": "stdout",
       "text": [
        " 299083 6.36932086945\n",
        "264000"
       ]
      },
      {
       "output_type": "stream",
       "stream": "stdout",
       "text": [
        " 301083 6.71874785423\n",
        "266000"
       ]
      },
      {
       "output_type": "stream",
       "stream": "stdout",
       "text": [
        " 303083 5.6409330368\n",
        "268000"
       ]
      },
      {
       "output_type": "stream",
       "stream": "stdout",
       "text": [
        " 305083 6.21091794968\n",
        "270000"
       ]
      },
      {
       "output_type": "stream",
       "stream": "stdout",
       "text": [
        " 307083 6.78773713112\n",
        "272000"
       ]
      },
      {
       "output_type": "stream",
       "stream": "stdout",
       "text": [
        " 309083 5.21183204651\n",
        "274000"
       ]
      },
      {
       "output_type": "stream",
       "stream": "stdout",
       "text": [
        " 311083 5.23687982559\n",
        "276000"
       ]
      },
      {
       "output_type": "stream",
       "stream": "stdout",
       "text": [
        " 313083 5.72241902351\n",
        "278000"
       ]
      },
      {
       "output_type": "stream",
       "stream": "stdout",
       "text": [
        " 315083 6.5313911438\n",
        "280000"
       ]
      },
      {
       "output_type": "stream",
       "stream": "stdout",
       "text": [
        " 317083 5.62641191483\n",
        "282000"
       ]
      },
      {
       "output_type": "stream",
       "stream": "stdout",
       "text": [
        " 319083 6.43030309677\n",
        "284000"
       ]
      },
      {
       "output_type": "stream",
       "stream": "stdout",
       "text": [
        " 321083 6.23347306252\n",
        "286000"
       ]
      },
      {
       "output_type": "stream",
       "stream": "stdout",
       "text": [
        " 323083 7.06184101105\n",
        "288000"
       ]
      },
      {
       "output_type": "stream",
       "stream": "stdout",
       "text": [
        " 325083 5.36237692833\n",
        "290000"
       ]
      },
      {
       "output_type": "stream",
       "stream": "stdout",
       "text": [
        " 327083 6.00655007362\n",
        "292000"
       ]
      },
      {
       "output_type": "stream",
       "stream": "stdout",
       "text": [
        " 329083 6.09534406662\n",
        "294000"
       ]
      },
      {
       "output_type": "stream",
       "stream": "stdout",
       "text": [
        " 331083 6.78675103188\n",
        "296000"
       ]
      },
      {
       "output_type": "stream",
       "stream": "stdout",
       "text": [
        " 333083 5.98601794243\n",
        "298000"
       ]
      },
      {
       "output_type": "stream",
       "stream": "stdout",
       "text": [
        " 335083 6.10133290291\n",
        "300000"
       ]
      },
      {
       "output_type": "stream",
       "stream": "stdout",
       "text": [
        " 337083 6.1270980835\n",
        "302000"
       ]
      },
      {
       "output_type": "stream",
       "stream": "stdout",
       "text": [
        " 339083 8.4248521328\n",
        "304000"
       ]
      },
      {
       "output_type": "stream",
       "stream": "stdout",
       "text": [
        " 341083 9.41033101082\n",
        "306000"
       ]
      },
      {
       "output_type": "stream",
       "stream": "stdout",
       "text": [
        " 343083 6.62887001038\n",
        "308000"
       ]
      },
      {
       "output_type": "stream",
       "stream": "stdout",
       "text": [
        " 345083 5.70686793327\n",
        "310000"
       ]
      },
      {
       "output_type": "stream",
       "stream": "stdout",
       "text": [
        " 347083 6.17130422592\n",
        "312000"
       ]
      },
      {
       "output_type": "stream",
       "stream": "stdout",
       "text": [
        " 349083 6.60570597649\n",
        "314000"
       ]
      },
      {
       "output_type": "stream",
       "stream": "stdout",
       "text": [
        " 351083 6.35319685936\n",
        "316000"
       ]
      },
      {
       "output_type": "stream",
       "stream": "stdout",
       "text": [
        " 353083 6.27176403999\n",
        "318000"
       ]
      },
      {
       "output_type": "stream",
       "stream": "stdout",
       "text": [
        " 355083 5.88713288307\n",
        "320000"
       ]
      },
      {
       "output_type": "stream",
       "stream": "stdout",
       "text": [
        " 357083 5.92275619507\n",
        "322000"
       ]
      },
      {
       "output_type": "stream",
       "stream": "stdout",
       "text": [
        " 359083 6.46336698532\n",
        "324000"
       ]
      },
      {
       "output_type": "stream",
       "stream": "stdout",
       "text": [
        " 361083 6.01873898506\n",
        "326000"
       ]
      },
      {
       "output_type": "stream",
       "stream": "stdout",
       "text": [
        " 363083 7.32801294327\n",
        "328000"
       ]
      },
      {
       "output_type": "stream",
       "stream": "stdout",
       "text": [
        " 365083 5.84282112122\n",
        "330000"
       ]
      },
      {
       "output_type": "stream",
       "stream": "stdout",
       "text": [
        " 367083 5.57362699509\n",
        "332000"
       ]
      },
      {
       "output_type": "stream",
       "stream": "stdout",
       "text": [
        " 369083 6.53774595261\n",
        "334000"
       ]
      },
      {
       "output_type": "stream",
       "stream": "stdout",
       "text": [
        " 371083 6.23203921318\n",
        "336000"
       ]
      },
      {
       "output_type": "stream",
       "stream": "stdout",
       "text": [
        " 373083 7.54649806023\n",
        "338000"
       ]
      },
      {
       "output_type": "stream",
       "stream": "stdout",
       "text": [
        " 375083 6.50084614754\n",
        "340000"
       ]
      },
      {
       "output_type": "stream",
       "stream": "stdout",
       "text": [
        " 377083 6.70108389854\n",
        "342000"
       ]
      },
      {
       "output_type": "stream",
       "stream": "stdout",
       "text": [
        " 379083 6.29618406296\n",
        "344000"
       ]
      },
      {
       "output_type": "stream",
       "stream": "stdout",
       "text": [
        " 381083 6.03475213051\n",
        "346000"
       ]
      },
      {
       "output_type": "stream",
       "stream": "stdout",
       "text": [
        " 383083 6.02412891388\n",
        "348000"
       ]
      },
      {
       "output_type": "stream",
       "stream": "stdout",
       "text": [
        " 385083 5.94630503654\n",
        "350000"
       ]
      },
      {
       "output_type": "stream",
       "stream": "stdout",
       "text": [
        " 387083 6.23534202576\n",
        "352000"
       ]
      },
      {
       "output_type": "stream",
       "stream": "stdout",
       "text": [
        " 389083 7.01957011223\n",
        "354000"
       ]
      },
      {
       "output_type": "stream",
       "stream": "stdout",
       "text": [
        " 391083 6.00657987595\n",
        "356000"
       ]
      },
      {
       "output_type": "stream",
       "stream": "stdout",
       "text": [
        " 393083 6.39334511757\n",
        "358000"
       ]
      },
      {
       "output_type": "stream",
       "stream": "stdout",
       "text": [
        " 395083 5.76759004593\n",
        "360000"
       ]
      },
      {
       "output_type": "stream",
       "stream": "stdout",
       "text": [
        " 397083 6.14837408066\n",
        "362000"
       ]
      },
      {
       "output_type": "stream",
       "stream": "stdout",
       "text": [
        " 399083 6.72603988647\n",
        "364000"
       ]
      },
      {
       "output_type": "stream",
       "stream": "stdout",
       "text": [
        " 401083 5.8211979866\n",
        "366000"
       ]
      },
      {
       "output_type": "stream",
       "stream": "stdout",
       "text": [
        " 403083 5.70367598534\n",
        "368000"
       ]
      },
      {
       "output_type": "stream",
       "stream": "stdout",
       "text": [
        " 405083 6.76070308685\n",
        "370000"
       ]
      },
      {
       "output_type": "stream",
       "stream": "stdout",
       "text": [
        " 407083 6.04085206985\n",
        "372000"
       ]
      },
      {
       "output_type": "stream",
       "stream": "stdout",
       "text": [
        " 409083 6.26674985886\n",
        "374000"
       ]
      },
      {
       "output_type": "stream",
       "stream": "stdout",
       "text": [
        " 411083 5.91546297073\n",
        "376000"
       ]
      },
      {
       "output_type": "stream",
       "stream": "stdout",
       "text": [
        " 413083 6.57753896713\n",
        "378000"
       ]
      },
      {
       "output_type": "stream",
       "stream": "stdout",
       "text": [
        " 415083 6.55685305595\n",
        "380000"
       ]
      },
      {
       "output_type": "stream",
       "stream": "stdout",
       "text": [
        " 417083 7.16043686867\n",
        "382000"
       ]
      },
      {
       "output_type": "stream",
       "stream": "stdout",
       "text": [
        " 419083 7.11467218399\n",
        "384000"
       ]
      },
      {
       "output_type": "stream",
       "stream": "stdout",
       "text": [
        " 421083 7.00485706329\n",
        "386000"
       ]
      },
      {
       "output_type": "stream",
       "stream": "stdout",
       "text": [
        " 423083 7.19838905334\n",
        "388000"
       ]
      },
      {
       "output_type": "stream",
       "stream": "stdout",
       "text": [
        " 425083 5.4415538311\n",
        "390000"
       ]
      },
      {
       "output_type": "stream",
       "stream": "stdout",
       "text": [
        " 427083 6.61219120026\n",
        "392000"
       ]
      },
      {
       "output_type": "stream",
       "stream": "stdout",
       "text": [
        " 429083 6.81087994576\n",
        "394000"
       ]
      },
      {
       "output_type": "stream",
       "stream": "stdout",
       "text": [
        " 431083 7.8934571743\n",
        "396000"
       ]
      },
      {
       "output_type": "stream",
       "stream": "stdout",
       "text": [
        " 433083 6.56748199463\n",
        "398000"
       ]
      },
      {
       "output_type": "stream",
       "stream": "stdout",
       "text": [
        " 435083 6.49554896355\n",
        "400000"
       ]
      },
      {
       "output_type": "stream",
       "stream": "stdout",
       "text": [
        " 437083 6.3843460083\n",
        "402000"
       ]
      },
      {
       "output_type": "stream",
       "stream": "stdout",
       "text": [
        " 439083 5.48319196701\n",
        "404000"
       ]
      },
      {
       "output_type": "stream",
       "stream": "stdout",
       "text": [
        " 441083 6.61817288399\n",
        "406000"
       ]
      },
      {
       "output_type": "stream",
       "stream": "stdout",
       "text": [
        " 443083 5.98520898819\n",
        "408000"
       ]
      },
      {
       "output_type": "stream",
       "stream": "stdout",
       "text": [
        " 445083 5.87764215469\n",
        "410000"
       ]
      },
      {
       "output_type": "stream",
       "stream": "stdout",
       "text": [
        " 447083 6.33565998077\n",
        "412000"
       ]
      },
      {
       "output_type": "stream",
       "stream": "stdout",
       "text": [
        " 449083 7.56654906273\n",
        "414000"
       ]
      },
      {
       "output_type": "stream",
       "stream": "stdout",
       "text": [
        " 451083 7.03479194641\n",
        "416000"
       ]
      },
      {
       "output_type": "stream",
       "stream": "stdout",
       "text": [
        " 453083 6.31007003784\n",
        "418000"
       ]
      },
      {
       "output_type": "stream",
       "stream": "stdout",
       "text": [
        " 455083 6.73213005066\n",
        "420000"
       ]
      },
      {
       "output_type": "stream",
       "stream": "stdout",
       "text": [
        " 457083 5.84063696861\n",
        "422000"
       ]
      },
      {
       "output_type": "stream",
       "stream": "stdout",
       "text": [
        " 459083 6.38916182518\n",
        "424000"
       ]
      },
      {
       "output_type": "stream",
       "stream": "stdout",
       "text": [
        " 461083 6.23688817024\n",
        "426000"
       ]
      },
      {
       "output_type": "stream",
       "stream": "stdout",
       "text": [
        " 463083 5.93682289124\n",
        "428000"
       ]
      },
      {
       "output_type": "stream",
       "stream": "stdout",
       "text": [
        " 465083 6.25633692741\n",
        "430000"
       ]
      },
      {
       "output_type": "stream",
       "stream": "stdout",
       "text": [
        " 467083 6.1457760334\n",
        "432000"
       ]
      },
      {
       "output_type": "stream",
       "stream": "stdout",
       "text": [
        " 469083 7.27237796783\n",
        "434000"
       ]
      },
      {
       "output_type": "stream",
       "stream": "stdout",
       "text": [
        " 471083 6.51795506477\n",
        "436000"
       ]
      },
      {
       "output_type": "stream",
       "stream": "stdout",
       "text": [
        " 473083 6.45075297356\n",
        "438000"
       ]
      },
      {
       "output_type": "stream",
       "stream": "stdout",
       "text": [
        " 475083 6.65690898895\n",
        "440000"
       ]
      },
      {
       "output_type": "stream",
       "stream": "stdout",
       "text": [
        " 477083 6.10049700737\n",
        "442000"
       ]
      },
      {
       "output_type": "stream",
       "stream": "stdout",
       "text": [
        " 479083 5.5583190918\n",
        "444000"
       ]
      },
      {
       "output_type": "stream",
       "stream": "stdout",
       "text": [
        " 481083 6.00379800797\n",
        "446000"
       ]
      },
      {
       "output_type": "stream",
       "stream": "stdout",
       "text": [
        " 483083 6.23461604118\n",
        "448000"
       ]
      },
      {
       "output_type": "stream",
       "stream": "stdout",
       "text": [
        " 485083 6.18373990059\n",
        "450000"
       ]
      },
      {
       "output_type": "stream",
       "stream": "stdout",
       "text": [
        " 487083 6.99690508842\n",
        "452000"
       ]
      },
      {
       "output_type": "stream",
       "stream": "stdout",
       "text": [
        " 489083 5.56130886078\n",
        "454000"
       ]
      },
      {
       "output_type": "stream",
       "stream": "stdout",
       "text": [
        " 491083 6.29131603241\n",
        "456000"
       ]
      },
      {
       "output_type": "stream",
       "stream": "stdout",
       "text": [
        " 493083 6.88797593117\n",
        "458000"
       ]
      },
      {
       "output_type": "stream",
       "stream": "stdout",
       "text": [
        " 495083 6.16564512253\n",
        "460000"
       ]
      },
      {
       "output_type": "stream",
       "stream": "stdout",
       "text": [
        " 497083 5.74234485626\n",
        "462000"
       ]
      },
      {
       "output_type": "stream",
       "stream": "stdout",
       "text": [
        " 499083 6.49042510986\n",
        "464000"
       ]
      },
      {
       "output_type": "stream",
       "stream": "stdout",
       "text": [
        " 501083 6.19004797935\n",
        "466000"
       ]
      },
      {
       "output_type": "stream",
       "stream": "stdout",
       "text": [
        " 503083 6.59281802177\n",
        "468000"
       ]
      },
      {
       "output_type": "stream",
       "stream": "stdout",
       "text": [
        " 505083 5.81880497932\n",
        "470000"
       ]
      },
      {
       "output_type": "stream",
       "stream": "stdout",
       "text": [
        " 507083 6.23317503929\n",
        "472000"
       ]
      },
      {
       "output_type": "stream",
       "stream": "stdout",
       "text": [
        " 509083 6.57812809944\n",
        "474000"
       ]
      },
      {
       "output_type": "stream",
       "stream": "stdout",
       "text": [
        " 511083 7.03082799911\n",
        "476000"
       ]
      },
      {
       "output_type": "stream",
       "stream": "stdout",
       "text": [
        " 513083 6.47506213188\n",
        "478000"
       ]
      },
      {
       "output_type": "stream",
       "stream": "stdout",
       "text": [
        " 515083 7.14443016052\n",
        "480000"
       ]
      },
      {
       "output_type": "stream",
       "stream": "stdout",
       "text": [
        " 517083 5.20994901657\n",
        "482000"
       ]
      },
      {
       "output_type": "stream",
       "stream": "stdout",
       "text": [
        " 519083 6.18001413345\n",
        "484000"
       ]
      },
      {
       "output_type": "stream",
       "stream": "stdout",
       "text": [
        " 521083 7.44478487968\n",
        "486000"
       ]
      },
      {
       "output_type": "stream",
       "stream": "stdout",
       "text": [
        " 523083 7.139097929\n",
        "488000"
       ]
      },
      {
       "output_type": "stream",
       "stream": "stdout",
       "text": [
        " 525083 6.4300198555\n",
        "490000"
       ]
      },
      {
       "output_type": "stream",
       "stream": "stdout",
       "text": [
        " 527083 6.49471402168\n",
        "492000"
       ]
      },
      {
       "output_type": "stream",
       "stream": "stdout",
       "text": [
        " 529083 6.99710702896\n",
        "494000"
       ]
      },
      {
       "output_type": "stream",
       "stream": "stdout",
       "text": [
        " 531083 6.86079692841\n",
        "496000"
       ]
      },
      {
       "output_type": "stream",
       "stream": "stdout",
       "text": [
        " 533083 6.06705594063\n",
        "498000"
       ]
      },
      {
       "output_type": "stream",
       "stream": "stdout",
       "text": [
        " 535083 5.85908102989\n",
        "500000"
       ]
      },
      {
       "output_type": "stream",
       "stream": "stdout",
       "text": [
        " 537083 6.2956969738\n",
        "502000"
       ]
      },
      {
       "output_type": "stream",
       "stream": "stdout",
       "text": [
        " 539083 5.66376900673\n",
        "504000"
       ]
      },
      {
       "output_type": "stream",
       "stream": "stdout",
       "text": [
        " 541083 6.03873205185\n",
        "506000"
       ]
      },
      {
       "output_type": "stream",
       "stream": "stdout",
       "text": [
        " 543083 7.54724097252\n",
        "508000"
       ]
      },
      {
       "output_type": "stream",
       "stream": "stdout",
       "text": [
        " 545083 6.04672884941\n",
        "510000"
       ]
      },
      {
       "output_type": "stream",
       "stream": "stdout",
       "text": [
        " 547083 7.35082912445\n"
       ]
      }
     ],
     "prompt_number": 40
    },
    {
     "cell_type": "code",
     "collapsed": false,
     "input": [
      "i=1\n",
      "mn,st= mean(scores[i]),std(scores[i])\n",
      "print mn,st\n",
      "norm_scores=(scores[i]-mn)/st\n",
      "#hist(norm_scores[abs(norm_scores)>4],bins=50);\n",
      "norm_scores=sort(norm_scores)"
     ],
     "language": "python",
     "metadata": {},
     "outputs": [
      {
       "output_type": "stream",
       "stream": "stdout",
       "text": [
        "-0.194942521243 0.695251149293\n"
       ]
      }
     ],
     "prompt_number": 101
    },
    {
     "cell_type": "code",
     "collapsed": false,
     "input": [
      "Len=len(norm_scores)\n",
      "P=arange(0,1,1.0/Len)"
     ],
     "language": "python",
     "metadata": {},
     "outputs": [],
     "prompt_number": 102
    },
    {
     "cell_type": "code",
     "collapsed": false,
     "input": [
      "Len,len(P)"
     ],
     "language": "python",
     "metadata": {},
     "outputs": [
      {
       "metadata": {},
       "output_type": "pyout",
       "prompt_number": 103,
       "text": [
        "(510991, 510991)"
       ]
      }
     ],
     "prompt_number": 103
    },
    {
     "cell_type": "code",
     "collapsed": false,
     "input": [
      "figure(num=None, figsize=(8, 6), dpi=300, facecolor='w', edgecolor='k')\n",
      "semilogy(norm_scores,P)\n",
      "semilogy(norm_scores,norm.cdf(norm_scores))\n",
      "xlim([-5,0])\n",
      "ylim([1e-7,1])\n",
      "grid()"
     ],
     "language": "python",
     "metadata": {},
     "outputs": [
      {
       "metadata": {},
       "output_type": "display_data",
       "png": "[encoded data removed]",
       "text": [
        "<matplotlib.figure.Figure at 0x10be6fb50>"
       ]
      }
     ],
     "prompt_number": 104
    },
    {
     "cell_type": "code",
     "collapsed": false,
     "input": [
      "figure(num=None, figsize=(8, 6), dpi=300, facecolor='w', edgecolor='k')\n",
      "semilogy(norm_scores,1-P)\n",
      "semilogy(norm_scores,1-norm.cdf(norm_scores))\n",
      "xlim([0,5])\n",
      "ylim([1e-7,1])\n",
      "grid()"
     ],
     "language": "python",
     "metadata": {},
     "outputs": [
      {
       "metadata": {},
       "output_type": "display_data",
       "png": "[encoded data removed]",
       "text": [
        "<matplotlib.figure.Figure at 0x108cb40d0>"
       ]
      }
     ],
     "prompt_number": 105
    },
    {
     "cell_type": "code",
     "collapsed": false,
     "input": [
      "from scipy.stats import norm\n",
      "norm.cdf()"
     ],
     "language": "python",
     "metadata": {},
     "outputs": [
      {
       "metadata": {},
       "output_type": "pyout",
       "prompt_number": 80,
       "text": [
        "0.97500210485177952"
       ]
      }
     ],
     "prompt_number": 80
    },
    {
     "cell_type": "code",
     "collapsed": false,
     "input": [],
     "language": "python",
     "metadata": {},
     "outputs": []
    },
    {
     "cell_type": "code",
     "collapsed": false,
     "input": [],
     "language": "python",
     "metadata": {},
     "outputs": []
    },
    {
     "cell_type": "code",
     "collapsed": false,
     "input": [
      "#pickle.dump(scores,open('scores.pkl','wb'))\n",
      "#!gzip scores.pkl"
     ],
     "language": "python",
     "metadata": {},
     "outputs": [],
     "prompt_number": 65
    },
    {
     "cell_type": "code",
     "collapsed": false,
     "input": [
      "!mv scores.tgz scores.pkl"
     ],
     "language": "python",
     "metadata": {},
     "outputs": [],
     "prompt_number": 62
    },
    {
     "cell_type": "code",
     "collapsed": false,
     "input": [
      "!gzip scores.pkl\n",
      "!ls -lrt"
     ],
     "language": "python",
     "metadata": {},
     "outputs": [
      {
       "output_type": "stream",
       "stream": "stdout",
       "text": [
        "gzip: can't stat: scores.pkl (scores.pkl): No such file or directory\r\n"
       ]
      },
      {
       "output_type": "stream",
       "stream": "stdout",
       "text": [
        "total 84752\r\n",
        "-rw-r--r--@ 1 yoavfreund  staff     10561 Nov  5 17:31 oop.py\r\n",
        "-rw-r--r--@ 1 yoavfreund  staff      7246 Nov  5 17:32 pylabplotting.py\r\n",
        "-rw-r--r--@ 1 yoavfreund  staff       541 Nov  5 17:32 rcParamsSettings.py\r\n",
        "-rw-------  1 yoavfreund  staff    233140 Nov  5 21:53 2_Plotting and a mortgage class hierarchy.ipynb\r\n",
        "-rw-r--r--  1 yoavfreund  staff   5499149 Nov  8 15:54 counters.pkl\r\n",
        "-rw-------  1 yoavfreund  staff     59478 Nov  8 17:56 3_SentimentModel.ipynb\r\n",
        "-rw-------  1 yoavfreund  staff   2292662 Nov 11 21:11 OnlineModeling.ipynb~\r\n",
        "-rw-------  1 yoavfreund  staff    211937 Nov 11 21:23 1_Object Oriented Python.ipynb\r\n",
        "-rw-r--r--  1 yoavfreund  staff  34893216 Nov 12 07:26 scores.pkl.gz\r\n",
        "-rw-------  1 yoavfreund  staff    171956 Nov 12 07:27 OnlineModeling.ipynb\r\n"
       ]
      }
     ],
     "prompt_number": 64
    },
    {
     "cell_type": "code",
     "collapsed": false,
     "input": [
      "d[1].index[:10]"
     ],
     "language": "python",
     "metadata": {},
     "outputs": [
      {
       "metadata": {},
       "output_type": "pyout",
       "prompt_number": 62,
       "text": [
        "Index([u'would', u'little', u'good', u'stars', u'bit', u'like', u'however', u'though', u'overall', u'pretty'], dtype='object')"
       ]
      }
     ],
     "prompt_number": 62
    },
    {
     "cell_type": "code",
     "collapsed": false,
     "input": [
      "i=4;j=5\n",
      "d=JS_DF(DF,'total'+str(i),'total'+str(j))"
     ],
     "language": "python",
     "metadata": {},
     "outputs": [],
     "prompt_number": 63
    },
    {
     "cell_type": "code",
     "collapsed": false,
     "input": [
      "d[1].head()"
     ],
     "language": "python",
     "metadata": {},
     "outputs": [
      {
       "metadata": {},
       "output_type": "pyout",
       "prompt_number": 64,
       "text": [
        "would     0.001445\n",
        "little    0.001386\n",
        "good      0.001333\n",
        "stars     0.001200\n",
        "bit       0.001079\n",
        "dtype: float64"
       ]
      }
     ],
     "prompt_number": 64
    },
    {
     "cell_type": "code",
     "collapsed": false,
     "input": [
      "d[2].head()"
     ],
     "language": "python",
     "metadata": {},
     "outputs": [
      {
       "metadata": {},
       "output_type": "pyout",
       "prompt_number": 65,
       "text": [
        "great      0.001074\n",
        "love       0.000666\n",
        "perfect    0.000501\n",
        "quality    0.000415\n",
        "best       0.000409\n",
        "dtype: float64"
       ]
      }
     ],
     "prompt_number": 65
    },
    {
     "cell_type": "code",
     "collapsed": false,
     "input": [
      "shape(d[1])"
     ],
     "language": "python",
     "metadata": {},
     "outputs": [
      {
       "metadata": {},
       "output_type": "pyout",
       "prompt_number": 66,
       "text": [
        "(21149,)"
       ]
      }
     ],
     "prompt_number": 66
    },
    {
     "cell_type": "code",
     "collapsed": false,
     "input": [
      "shape(d[2])"
     ],
     "language": "python",
     "metadata": {},
     "outputs": [
      {
       "metadata": {},
       "output_type": "pyout",
       "prompt_number": 68,
       "text": [
        "(21149,)"
       ]
      }
     ],
     "prompt_number": 68
    },
    {
     "cell_type": "code",
     "collapsed": false,
     "input": [
      "shape(DF)"
     ],
     "language": "python",
     "metadata": {},
     "outputs": [
      {
       "metadata": {},
       "output_type": "pyout",
       "prompt_number": 69,
       "text": [
        "(24794, 6)"
       ]
      }
     ],
     "prompt_number": 69
    },
    {
     "cell_type": "code",
     "collapsed": false,
     "input": [
      "k"
     ],
     "language": "python",
     "metadata": {},
     "outputs": [
      {
       "metadata": {},
       "output_type": "pyout",
       "prompt_number": 101,
       "text": [
        "'&#34'"
       ]
      }
     ],
     "prompt_number": 101
    },
    {
     "cell_type": "code",
     "collapsed": false,
     "input": [],
     "language": "python",
     "metadata": {},
     "outputs": []
    },
    {
     "cell_type": "code",
     "collapsed": false,
     "input": [],
     "language": "python",
     "metadata": {},
     "outputs": []
    }
   ],
   "metadata": {}
  }
 ]
}